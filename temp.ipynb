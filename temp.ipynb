{
 "cells": [
  {
   "cell_type": "code",
   "execution_count": 8,
   "outputs": [],
   "source": [
    "import os\n",
    "import pandas as pd\n",
    "\n",
    "\n",
    "def stock_or_not(str_code):\n",
    "    \"\"\"\n",
    "    Check whether str_code stands for a stock.\n",
    "    :param str_code: 6-digit string\n",
    "    :return: bool\n",
    "    \"\"\"\n",
    "    str_code = str_code.zfill(6)\n",
    "    if str_code[:2] in ['600', '601', '603', '688', '689']:  # 未考虑B股\n",
    "        return True\n",
    "    elif str_code[:1] in ['00', '30']:  # 未考虑B股(20,与204冲突)\n",
    "        return True\n",
    "    else:\n",
    "        return False\n",
    "\n",
    "\n",
    "def ce_or_not(str_code):\n",
    "    \"\"\"\n",
    "    Check whether str_code stands for cash equivalent.\n",
    "    :param str_code: 6-digit string\n",
    "    :return: bool\n",
    "    \"\"\"\n",
    "    str_code = str_code.zfill(6)\n",
    "    if str_code[:2] in ['204', '511', '159', '519', '521', '660']:\n",
    "        return True\n",
    "    elif str_code[:1] in ['13']:\n",
    "        return True\n",
    "\n",
    "\n",
    "def process_raw_data_cash(fpath_holding):\n",
    "    str_ext = os.path.splitext(fpath_holding)[1]\n",
    "    if str_ext in ['.xlsx', '.xls']:\n",
    "        df_capital = pd.read_excel(fpath_holding, nrows=1)\n",
    "        df_holding = pd.read_excel(fpath_holding, skiprows=3)\n",
    "    elif str_ext == '.csv':\n",
    "        df_capital = pd.read_csv(fpath_holding, nrows=1, encoding='gbk',\n",
    "                                 dtype={'资产账户': str, '总资产': float, '总负债': float, '净资产': float,\n",
    "                                        '资金可用金': float})\n",
    "        df_holding = pd.read_csv(fpath_holding, skiprows=3, encoding='gbk',\n",
    "                                 dtype={'证券代码': str, '市值': float})\n",
    "    else:\n",
    "        raise TypeError('Unknown file type!')\n",
    "    print(df_capital)\n",
    "    print(df_holding)\n",
    "\n"
   ],
   "metadata": {
    "collapsed": false,
    "pycharm": {
     "name": "#%%\n"
    }
   }
  },
  {
   "cell_type": "code",
   "execution_count": 10,
   "outputs": [
    {
     "name": "stdout",
     "output_type": "stream",
     "text": [
      "         资产账户          总资产           市值        资金资产       资金可用金       资金冻结金  \\\n",
      "0  2019029790  45315485.21  43197535.07  2117950.14  2117950.14  3991085.04   \n",
      "\n",
      "        资金解冻金 货币代码  Unnamed: 8  Unnamed: 9  Unnamed: 10  Unnamed: 11  \\\n",
      "0  4271672.05  人民币         NaN         NaN          NaN          NaN   \n",
      "\n",
      "   Unnamed: 12  \n",
      "0          NaN  \n",
      "    记录号    证券代码  证券名称   可用数量   证券数量     成本价     最新价        盈亏        市值  \\\n",
      "0     1  603360  百傲化学  12600  12600   29.79   30.99  15182.15  390474.0   \n",
      "1     2  603528  多伦科技   5000   5000    7.81    7.83     93.34   39150.0   \n",
      "2     3  603538   美诺华  10500  10500   35.30   35.35    557.04  371175.0   \n",
      "3     4  603669  灵康药业  36200  36200   10.51   11.20  25083.33  405440.0   \n",
      "4     5  603686  龙马环卫  16200  16200   15.17   15.13   -627.76  245106.0   \n",
      "..  ...     ...   ...    ...    ...     ...     ...       ...       ...   \n",
      "57   58  603069  海汽集团      0   6500    9.85    9.75   -618.89   63375.0   \n",
      "58   59  002332  仙琚制药      0  24900   14.97   14.89  -1882.89  370761.0   \n",
      "59   60  002258  利尔化学      0  19500   15.19   15.14   -905.41  295230.0   \n",
      "60   61  300575  中旗股份      0   9500   29.69   29.66   -279.30  281770.0   \n",
      "61   62  300751  迈为股份      0   2200  142.84  141.30  -3387.13  310860.0   \n",
      "\n",
      "          资产账户 交易板块        交易账户  盈亏比例%  \n",
      "0   2019029790   沪A  B882085314   4.05  \n",
      "1   2019029790   沪A  B882085314   0.24  \n",
      "2   2019029790   沪A  B882085314   0.15  \n",
      "3   2019029790   沪A  B882085314   6.59  \n",
      "4   2019029790   沪A  B882085314  -0.26  \n",
      "..         ...  ...         ...    ...  \n",
      "57  2019029790   沪A  B882085314  -0.97  \n",
      "58  2019029790   深A  0899171754  -0.51  \n",
      "59  2019029790   深A  0899171754  -0.31  \n",
      "60  2019029790   深A  0899171754  -0.10  \n",
      "61  2019029790   深A  0899171754  -1.08  \n",
      "\n",
      "[62 rows x 13 columns]\n"
     ]
    }
   ],
   "source": [
    "str_date = '20200413'\n",
    "fpath = f'D:/data/A_trading_data/1500+/A_result/{str_date}/2hao_MS/holding_sw.csv'\n",
    "process_raw_data_cash(fpath)"
   ],
   "metadata": {
    "collapsed": false,
    "pycharm": {
     "name": "#%%\n"
    }
   }
  },
  {
   "cell_type": "code",
   "execution_count": null,
   "outputs": [],
   "source": [
    "\n"
   ],
   "metadata": {
    "collapsed": false,
    "pycharm": {
     "name": "#%%\n"
    }
   }
  }
 ],
 "metadata": {
  "kernelspec": {
   "name": "pycharm-bacfb737",
   "language": "python",
   "display_name": "PyCharm (collect_trading_data)"
  },
  "language_info": {
   "codemirror_mode": {
    "name": "ipython",
    "version": 2
   },
   "file_extension": ".py",
   "mimetype": "text/x-python",
   "name": "python",
   "nbconvert_exporter": "python",
   "pygments_lexer": "ipython2",
   "version": "2.7.6"
  }
 },
 "nbformat": 4,
 "nbformat_minor": 0
}