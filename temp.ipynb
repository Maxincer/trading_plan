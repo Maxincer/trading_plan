{
 "cells": [
  {
   "cell_type": "code",
   "execution_count": 19,
   "outputs": [],
   "source": [
    "import os\n",
    "import pandas as pd\n",
    "\n",
    "def seccode2bsitem(str_code):\n",
    "    \"\"\"\n",
    "    Transfer the code into b/s item of the account\n",
    "    :param str_code: 6-digit code\n",
    "    :return:\n",
    "    str\n",
    "        {\n",
    "        'st': stock, 股票\n",
    "        'ce': 现金及一般等价物,\n",
    "        'unknown': others\n",
    "        }\n",
    "    \"\"\"\n",
    "    str_code = str_code.zfill(6)\n",
    "    if str_code[:3] in ['600', '601', '603', '688', '689']:  # 未考虑B股\n",
    "        return 'st'\n",
    "    elif str_code[:2] in ['00', '30']:  # 未考虑B股(20,与204冲突)\n",
    "        return 'st'\n",
    "    elif str_code[:3] in ['204', '511', '159', '519', '521', '660']:\n",
    "        return 'ce'\n",
    "    elif str_code[:2] in ['13']:\n",
    "        return 'ce'\n",
    "    else:\n",
    "        print(f'New security type found, please check {str_code} type and update the function \"seccode2bsitem\".')\n",
    "        return 'unknown'\n",
    "\n",
    "def process_raw_data_cash(fpath_holding):\n",
    "    str_ext = os.path.splitext(fpath_holding)[1]\n",
    "    if str_ext in ['.xlsx', '.xls']:\n",
    "        __df_capital = pd.read_excel(fpath_holding, nrows=1)\n",
    "        __df_holding = pd.read_excel(fpath_holding, skiprows=3)\n",
    "    elif str_ext == '.csv':\n",
    "        __df_capital = pd.read_csv(fpath_holding, nrows=1, encoding='gbk',\n",
    "                                 dtype={'资产账户': str, '总资产': float, '总负债': float, '净资产': float,\n",
    "                                        '资金可用金': float})\n",
    "        __df_holding = pd.read_csv(fpath_holding, skiprows=3, encoding='gbk',\n",
    "                                 dtype={'证券代码': str, '市值': float})\n",
    "    else:\n",
    "        raise TypeError('Unknown file type!')\n",
    "    return __df_capital, __df_holding"
   ],
   "metadata": {
    "collapsed": false,
    "pycharm": {
     "name": "#%%\n"
    }
   }
  },
  {
   "cell_type": "code",
   "execution_count": 20,
   "outputs": [
    {
     "data": {
      "text/plain": "    记录号    证券代码  证券名称   可用数量   证券数量     成本价     最新价        盈亏        市值  \\\n0     1  603360  百傲化学  12600  12600   29.79   30.99  15182.15  390474.0   \n1     2  603528  多伦科技   5000   5000    7.81    7.83     93.34   39150.0   \n2     3  603538   美诺华  10500  10500   35.30   35.35    557.04  371175.0   \n3     4  603669  灵康药业  36200  36200   10.51   11.20  25083.33  405440.0   \n4     5  603686  龙马环卫  16200  16200   15.17   15.13   -627.76  245106.0   \n..  ...     ...   ...    ...    ...     ...     ...       ...       ...   \n57   58  603069  海汽集团      0   6500    9.85    9.75   -618.89   63375.0   \n58   59  002332  仙琚制药      0  24900   14.97   14.89  -1882.89  370761.0   \n59   60  002258  利尔化学      0  19500   15.19   15.14   -905.41  295230.0   \n60   61  300575  中旗股份      0   9500   29.69   29.66   -279.30  281770.0   \n61   62  300751  迈为股份      0   2200  142.84  141.30  -3387.13  310860.0   \n\n          资产账户 交易板块        交易账户  盈亏比例%  \n0   2019029790   沪A  B882085314   4.05  \n1   2019029790   沪A  B882085314   0.24  \n2   2019029790   沪A  B882085314   0.15  \n3   2019029790   沪A  B882085314   6.59  \n4   2019029790   沪A  B882085314  -0.26  \n..         ...  ...         ...    ...  \n57  2019029790   沪A  B882085314  -0.97  \n58  2019029790   深A  0899171754  -0.51  \n59  2019029790   深A  0899171754  -0.31  \n60  2019029790   深A  0899171754  -0.10  \n61  2019029790   深A  0899171754  -1.08  \n\n[62 rows x 13 columns]",
      "text/html": "<div>\n<style scoped>\n    .dataframe tbody tr th:only-of-type {\n        vertical-align: middle;\n    }\n\n    .dataframe tbody tr th {\n        vertical-align: top;\n    }\n\n    .dataframe thead th {\n        text-align: right;\n    }\n</style>\n<table border=\"1\" class=\"dataframe\">\n  <thead>\n    <tr style=\"text-align: right;\">\n      <th></th>\n      <th>记录号</th>\n      <th>证券代码</th>\n      <th>证券名称</th>\n      <th>可用数量</th>\n      <th>证券数量</th>\n      <th>成本价</th>\n      <th>最新价</th>\n      <th>盈亏</th>\n      <th>市值</th>\n      <th>资产账户</th>\n      <th>交易板块</th>\n      <th>交易账户</th>\n      <th>盈亏比例%</th>\n    </tr>\n  </thead>\n  <tbody>\n    <tr>\n      <th>0</th>\n      <td>1</td>\n      <td>603360</td>\n      <td>百傲化学</td>\n      <td>12600</td>\n      <td>12600</td>\n      <td>29.79</td>\n      <td>30.99</td>\n      <td>15182.15</td>\n      <td>390474.0</td>\n      <td>2019029790</td>\n      <td>沪A</td>\n      <td>B882085314</td>\n      <td>4.05</td>\n    </tr>\n    <tr>\n      <th>1</th>\n      <td>2</td>\n      <td>603528</td>\n      <td>多伦科技</td>\n      <td>5000</td>\n      <td>5000</td>\n      <td>7.81</td>\n      <td>7.83</td>\n      <td>93.34</td>\n      <td>39150.0</td>\n      <td>2019029790</td>\n      <td>沪A</td>\n      <td>B882085314</td>\n      <td>0.24</td>\n    </tr>\n    <tr>\n      <th>2</th>\n      <td>3</td>\n      <td>603538</td>\n      <td>美诺华</td>\n      <td>10500</td>\n      <td>10500</td>\n      <td>35.30</td>\n      <td>35.35</td>\n      <td>557.04</td>\n      <td>371175.0</td>\n      <td>2019029790</td>\n      <td>沪A</td>\n      <td>B882085314</td>\n      <td>0.15</td>\n    </tr>\n    <tr>\n      <th>3</th>\n      <td>4</td>\n      <td>603669</td>\n      <td>灵康药业</td>\n      <td>36200</td>\n      <td>36200</td>\n      <td>10.51</td>\n      <td>11.20</td>\n      <td>25083.33</td>\n      <td>405440.0</td>\n      <td>2019029790</td>\n      <td>沪A</td>\n      <td>B882085314</td>\n      <td>6.59</td>\n    </tr>\n    <tr>\n      <th>4</th>\n      <td>5</td>\n      <td>603686</td>\n      <td>龙马环卫</td>\n      <td>16200</td>\n      <td>16200</td>\n      <td>15.17</td>\n      <td>15.13</td>\n      <td>-627.76</td>\n      <td>245106.0</td>\n      <td>2019029790</td>\n      <td>沪A</td>\n      <td>B882085314</td>\n      <td>-0.26</td>\n    </tr>\n    <tr>\n      <th>...</th>\n      <td>...</td>\n      <td>...</td>\n      <td>...</td>\n      <td>...</td>\n      <td>...</td>\n      <td>...</td>\n      <td>...</td>\n      <td>...</td>\n      <td>...</td>\n      <td>...</td>\n      <td>...</td>\n      <td>...</td>\n      <td>...</td>\n    </tr>\n    <tr>\n      <th>57</th>\n      <td>58</td>\n      <td>603069</td>\n      <td>海汽集团</td>\n      <td>0</td>\n      <td>6500</td>\n      <td>9.85</td>\n      <td>9.75</td>\n      <td>-618.89</td>\n      <td>63375.0</td>\n      <td>2019029790</td>\n      <td>沪A</td>\n      <td>B882085314</td>\n      <td>-0.97</td>\n    </tr>\n    <tr>\n      <th>58</th>\n      <td>59</td>\n      <td>002332</td>\n      <td>仙琚制药</td>\n      <td>0</td>\n      <td>24900</td>\n      <td>14.97</td>\n      <td>14.89</td>\n      <td>-1882.89</td>\n      <td>370761.0</td>\n      <td>2019029790</td>\n      <td>深A</td>\n      <td>0899171754</td>\n      <td>-0.51</td>\n    </tr>\n    <tr>\n      <th>59</th>\n      <td>60</td>\n      <td>002258</td>\n      <td>利尔化学</td>\n      <td>0</td>\n      <td>19500</td>\n      <td>15.19</td>\n      <td>15.14</td>\n      <td>-905.41</td>\n      <td>295230.0</td>\n      <td>2019029790</td>\n      <td>深A</td>\n      <td>0899171754</td>\n      <td>-0.31</td>\n    </tr>\n    <tr>\n      <th>60</th>\n      <td>61</td>\n      <td>300575</td>\n      <td>中旗股份</td>\n      <td>0</td>\n      <td>9500</td>\n      <td>29.69</td>\n      <td>29.66</td>\n      <td>-279.30</td>\n      <td>281770.0</td>\n      <td>2019029790</td>\n      <td>深A</td>\n      <td>0899171754</td>\n      <td>-0.10</td>\n    </tr>\n    <tr>\n      <th>61</th>\n      <td>62</td>\n      <td>300751</td>\n      <td>迈为股份</td>\n      <td>0</td>\n      <td>2200</td>\n      <td>142.84</td>\n      <td>141.30</td>\n      <td>-3387.13</td>\n      <td>310860.0</td>\n      <td>2019029790</td>\n      <td>深A</td>\n      <td>0899171754</td>\n      <td>-1.08</td>\n    </tr>\n  </tbody>\n</table>\n<p>62 rows × 13 columns</p>\n</div>"
     },
     "execution_count": 20,
     "metadata": {},
     "output_type": "execute_result"
    }
   ],
   "source": [
    "str_date = '20200413'\n",
    "fpath = f'D:/data/A_trading_data/1500+/A_result/{str_date}/2hao_MS/holding_sw.csv'\n",
    "df_capital, df_holding = process_raw_data_cash(fpath)\n",
    "df_holding"
   ],
   "metadata": {
    "collapsed": false,
    "pycharm": {
     "name": "#%%\n"
    }
   }
  },
  {
   "cell_type": "code",
   "execution_count": 24,
   "outputs": [
    {
     "data": {
      "text/plain": "      证券代码        市值 bsitem\n0   603360  390474.0     st\n1   603528   39150.0     st\n2   603538  371175.0     st\n3   603669  405440.0     st\n4   603686  245106.0     st\n..     ...       ...    ...\n57  603069   63375.0     st\n58  002332  370761.0     st\n59  002258  295230.0     st\n60  300575  281770.0     st\n61  300751  310860.0     st\n\n[62 rows x 3 columns]",
      "text/html": "<div>\n<style scoped>\n    .dataframe tbody tr th:only-of-type {\n        vertical-align: middle;\n    }\n\n    .dataframe tbody tr th {\n        vertical-align: top;\n    }\n\n    .dataframe thead th {\n        text-align: right;\n    }\n</style>\n<table border=\"1\" class=\"dataframe\">\n  <thead>\n    <tr style=\"text-align: right;\">\n      <th></th>\n      <th>证券代码</th>\n      <th>市值</th>\n      <th>bsitem</th>\n    </tr>\n  </thead>\n  <tbody>\n    <tr>\n      <th>0</th>\n      <td>603360</td>\n      <td>390474.0</td>\n      <td>st</td>\n    </tr>\n    <tr>\n      <th>1</th>\n      <td>603528</td>\n      <td>39150.0</td>\n      <td>st</td>\n    </tr>\n    <tr>\n      <th>2</th>\n      <td>603538</td>\n      <td>371175.0</td>\n      <td>st</td>\n    </tr>\n    <tr>\n      <th>3</th>\n      <td>603669</td>\n      <td>405440.0</td>\n      <td>st</td>\n    </tr>\n    <tr>\n      <th>4</th>\n      <td>603686</td>\n      <td>245106.0</td>\n      <td>st</td>\n    </tr>\n    <tr>\n      <th>...</th>\n      <td>...</td>\n      <td>...</td>\n      <td>...</td>\n    </tr>\n    <tr>\n      <th>57</th>\n      <td>603069</td>\n      <td>63375.0</td>\n      <td>st</td>\n    </tr>\n    <tr>\n      <th>58</th>\n      <td>002332</td>\n      <td>370761.0</td>\n      <td>st</td>\n    </tr>\n    <tr>\n      <th>59</th>\n      <td>002258</td>\n      <td>295230.0</td>\n      <td>st</td>\n    </tr>\n    <tr>\n      <th>60</th>\n      <td>300575</td>\n      <td>281770.0</td>\n      <td>st</td>\n    </tr>\n    <tr>\n      <th>61</th>\n      <td>300751</td>\n      <td>310860.0</td>\n      <td>st</td>\n    </tr>\n  </tbody>\n</table>\n<p>62 rows × 3 columns</p>\n</div>"
     },
     "execution_count": 24,
     "metadata": {},
     "output_type": "execute_result"
    }
   ],
   "source": [
    "# 此步骤之前，需要规范一下列名。\n",
    "df_holding_draft = df_holding.loc[:, ['证券代码', '市值']]\n",
    "df_holding_draft['bsitem'] = df_holding_draft['证券代码'].apply(seccode2bsitem)\n",
    "holding_mv = df_holding_draft.groupby(by='bsitem').sum().T\n",
    "dict_bs_mv = holding_mv.to_dict('record')\n",
    "dict_bs_mv"
   ],
   "metadata": {
    "collapsed": false,
    "pycharm": {
     "name": "#%%\n"
    }
   }
  },
  {
   "cell_type": "code",
   "execution_count": 31,
   "outputs": [
    {
     "data": {
      "text/plain": "                       0\n资产账户          2019029790\n总资产          4.53155e+07\n市值           4.31975e+07\n资金资产         2.11795e+06\n资金可用金        2.11795e+06\n资金冻结金        3.99109e+06\n资金解冻金        4.27167e+06\n货币代码                 人民币\nUnnamed: 8           NaN\nUnnamed: 9           NaN\nUnnamed: 10          NaN\nUnnamed: 11          NaN\nUnnamed: 12          NaN",
      "text/html": "<div>\n<style scoped>\n    .dataframe tbody tr th:only-of-type {\n        vertical-align: middle;\n    }\n\n    .dataframe tbody tr th {\n        vertical-align: top;\n    }\n\n    .dataframe thead th {\n        text-align: right;\n    }\n</style>\n<table border=\"1\" class=\"dataframe\">\n  <thead>\n    <tr style=\"text-align: right;\">\n      <th></th>\n      <th>0</th>\n    </tr>\n  </thead>\n  <tbody>\n    <tr>\n      <th>资产账户</th>\n      <td>2019029790</td>\n    </tr>\n    <tr>\n      <th>总资产</th>\n      <td>4.53155e+07</td>\n    </tr>\n    <tr>\n      <th>市值</th>\n      <td>4.31975e+07</td>\n    </tr>\n    <tr>\n      <th>资金资产</th>\n      <td>2.11795e+06</td>\n    </tr>\n    <tr>\n      <th>资金可用金</th>\n      <td>2.11795e+06</td>\n    </tr>\n    <tr>\n      <th>资金冻结金</th>\n      <td>3.99109e+06</td>\n    </tr>\n    <tr>\n      <th>资金解冻金</th>\n      <td>4.27167e+06</td>\n    </tr>\n    <tr>\n      <th>货币代码</th>\n      <td>人民币</td>\n    </tr>\n    <tr>\n      <th>Unnamed: 8</th>\n      <td>NaN</td>\n    </tr>\n    <tr>\n      <th>Unnamed: 9</th>\n      <td>NaN</td>\n    </tr>\n    <tr>\n      <th>Unnamed: 10</th>\n      <td>NaN</td>\n    </tr>\n    <tr>\n      <th>Unnamed: 11</th>\n      <td>NaN</td>\n    </tr>\n    <tr>\n      <th>Unnamed: 12</th>\n      <td>NaN</td>\n    </tr>\n  </tbody>\n</table>\n</div>"
     },
     "execution_count": 31,
     "metadata": {},
     "output_type": "execute_result"
    }
   ],
   "source": [
    "df_capital.T\n",
    "\n"
   ],
   "metadata": {
    "collapsed": false,
    "pycharm": {
     "name": "#%%\n"
    }
   }
  },
  {
   "cell_type": "code",
   "execution_count": null,
   "outputs": [],
   "source": [
    "\n"
   ],
   "metadata": {
    "collapsed": false,
    "pycharm": {
     "name": "#%%\n"
    }
   }
  }
 ],
 "metadata": {
  "kernelspec": {
   "name": "pycharm-bacfb737",
   "language": "python",
   "display_name": "PyCharm (collect_trading_data)"
  },
  "language_info": {
   "codemirror_mode": {
    "name": "ipython",
    "version": 2
   },
   "file_extension": ".py",
   "mimetype": "text/x-python",
   "name": "python",
   "nbconvert_exporter": "python",
   "pygments_lexer": "ipython2",
   "version": "2.7.6"
  }
 },
 "nbformat": 4,
 "nbformat_minor": 0
}