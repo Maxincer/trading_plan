{
 "cells": [
  {
   "cell_type": "code",
   "execution_count": 5,
   "outputs": [
    {
     "name": "stdout",
     "output_type": "stream",
     "text": [
      "           资产账户      实时担保比          总资产   总负债          净资产        保证金可用  \\\n",
      "0    3900155432  9999.9900  36700852.29  0.00  36700852.29  30642176.47   \n",
      "1           NaN        NaN          NaN   NaN          NaN          NaN   \n",
      "2           记录号       证券代码         证券名称  可用数量         证券数量          成本价   \n",
      "3             1     603528         多伦科技     0        25800         7.81   \n",
      "4             2     603516         淳中科技    77           77        46.38   \n",
      "..          ...        ...          ...   ...          ...          ...   \n",
      "159         157     601882         海天精工     0         1600         7.69   \n",
      "160         158     000524         岭南控股     0        13800         6.65   \n",
      "161         159     002270         华明装备     0         5900         5.05   \n",
      "162         160     603713         密尔克卫     0         2200        61.78   \n",
      "163         161     600055         万东医疗     0        16400        15.36   \n",
      "\n",
      "          资金可用金        担保证券市         证券市值       融资负债合 融券负债合        融资可用额  \\\n",
      "0    1668443.72  34649407.21  35032408.57        0.00  0.00  57520000.00   \n",
      "1           NaN          NaN          NaN         NaN   NaN          NaN   \n",
      "2           最新价           盈亏           市值        资产账户  交易板块         交易账户   \n",
      "3          7.70     -2734.39    198660.00  3900155432    沪A   E050837473   \n",
      "4         38.78      -585.24      2986.06  3900155432    沪A   E050837473   \n",
      "..          ...          ...          ...         ...   ...          ...   \n",
      "159        7.46      -373.07     11936.00  3900155432    沪A   E050837473   \n",
      "160        7.03      5214.42     97014.00  3900155432    深A   0680028782   \n",
      "161        4.86     -1092.03     28674.00  3900155432    深A   0680028782   \n",
      "162       59.90     -4135.20    131780.00  3900155432    沪A   E050837473   \n",
      "163       15.28     -1280.36    250592.00  3900155432    沪A   E050837473   \n",
      "\n",
      "           融券可用额  融券卖出金  \n",
      "0    57520000.00    0.0  \n",
      "1            NaN    NaN  \n",
      "2          盈亏比例%    NaN  \n",
      "3          -1.36    NaN  \n",
      "4         -16.39    NaN  \n",
      "..           ...    ...  \n",
      "159        -3.03    NaN  \n",
      "160         5.68    NaN  \n",
      "161        -3.67    NaN  \n",
      "162        -3.04    NaN  \n",
      "163        -0.51    NaN  \n",
      "\n",
      "[164 rows x 14 columns]\n"
     ]
    }
   ],
   "source": [
    "import os\n",
    "import pandas as pd\n",
    "\n",
    "fpath = r'D:\\data\\A_trading_data\\1500+\\A_result\\20200410\\903hao\\holding.csv'\n",
    "a = pd.read_csv(fpath, encoding='gbk')\n",
    "print(a)\n"
   ],
   "metadata": {
    "collapsed": false,
    "pycharm": {
     "name": "#%%\n"
    }
   }
  },
  {
   "cell_type": "code",
   "execution_count": null,
   "outputs": [],
   "source": [
    "\n"
   ],
   "metadata": {
    "collapsed": false,
    "pycharm": {
     "name": "#%%\n"
    }
   }
  }
 ],
 "metadata": {
  "kernelspec": {
   "name": "pycharm-bacfb737",
   "language": "python",
   "display_name": "PyCharm (collect_trading_data)"
  },
  "language_info": {
   "codemirror_mode": {
    "name": "ipython",
    "version": 2
   },
   "file_extension": ".py",
   "mimetype": "text/x-python",
   "name": "python",
   "nbconvert_exporter": "python",
   "pygments_lexer": "ipython2",
   "version": "2.7.6"
  }
 },
 "nbformat": 4,
 "nbformat_minor": 0
}