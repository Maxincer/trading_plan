{
 "cells": [
  {
   "cell_type": "code",
   "execution_count": 50,
   "outputs": [],
   "source": [
    "import os\n",
    "\n",
    "import pandas as pd\n",
    "import pymongo\n",
    "\n",
    "def seccode2bsitem(str_code):\n",
    "    \"\"\"\n",
    "    Transfer the code into b/s item of the account\n",
    "    :param str_code: 6-digit code\n",
    "    :return:\n",
    "    str\n",
    "        {\n",
    "        'st': stock, 股票\n",
    "        'ce': 现金及一般等价物,\n",
    "        'unknown': others\n",
    "        }\n",
    "    :note:\n",
    "    无B股股东账户， 在清洗持仓数据时，为考虑B股代码问题。\n",
    "\n",
    "    \"\"\"\n",
    "    str_code = str_code.zfill(6)\n",
    "    if str_code[:3] in ['600', '601', '603', '688', '689']:  # 未考虑B股\n",
    "        return 'st'\n",
    "    elif str_code[:2] in ['00', '30']:\n",
    "        return 'st'\n",
    "    elif str_code[:3] in ['204', '511', '159', '519', '521', '660']:\n",
    "        return 'ce'\n",
    "    elif str_code[:2] in ['13']:\n",
    "        return 'ce'\n",
    "    else:\n",
    "        print(f'New security type found, please check {str_code} type and update the function \"seccode2bsitem\".')\n",
    "        return 'unknown'\n",
    "\n",
    "def process_raw_data_cash(__fpath_holding):\n",
    "    str_ext = os.path.splitext(__fpath_holding)[1]\n",
    "    if str_ext in ['.xlsx', '.xls']:\n",
    "        __df_capital = pd.read_excel(__fpath_holding)\n",
    "        __df_holding = pd.read_excel(__fpath_holding)\n",
    "    elif str_ext == '.csv':\n",
    "        __df_capital = pd.read_csv(__fpath_holding, nrows=1, encoding='gbk',\n",
    "                                 dtype={'资产账户': str, '总资产': float, '总负债': float, '净资产': float,\n",
    "                                        '资金可用金': float})\n",
    "        __df_holding = pd.read_csv(__fpath_holding, skiprows=3, encoding='gbk',\n",
    "                                 dtype={'证券代码': str, '市值': float})\n",
    "    else:\n",
    "        raise TypeError('Unknown file type!')\n",
    "    return __df_capital, __df_holding\n",
    "str_date = '20200414'"
   ],
   "metadata": {
    "collapsed": false,
    "pycharm": {
     "name": "#%%\n"
    }
   }
  },
  {
   "cell_type": "code",
   "execution_count": 38,
   "outputs": [
    {
     "data": {
      "text/plain": "         资产账户          总资产           市值        资金资产       资金可用金       资金冻结金  \\\n0  2019029790  45520035.82  43408154.09  2111881.73  2111881.73  4336364.29   \n\n        资金解冻金 货币代码  Unnamed: 8  Unnamed: 9  Unnamed: 10  Unnamed: 11  \\\n0  4330295.89  人民币         NaN         NaN          NaN          NaN   \n\n   Unnamed: 12  \n0          NaN  ",
      "text/html": "<div>\n<style scoped>\n    .dataframe tbody tr th:only-of-type {\n        vertical-align: middle;\n    }\n\n    .dataframe tbody tr th {\n        vertical-align: top;\n    }\n\n    .dataframe thead th {\n        text-align: right;\n    }\n</style>\n<table border=\"1\" class=\"dataframe\">\n  <thead>\n    <tr style=\"text-align: right;\">\n      <th></th>\n      <th>资产账户</th>\n      <th>总资产</th>\n      <th>市值</th>\n      <th>资金资产</th>\n      <th>资金可用金</th>\n      <th>资金冻结金</th>\n      <th>资金解冻金</th>\n      <th>货币代码</th>\n      <th>Unnamed: 8</th>\n      <th>Unnamed: 9</th>\n      <th>Unnamed: 10</th>\n      <th>Unnamed: 11</th>\n      <th>Unnamed: 12</th>\n    </tr>\n  </thead>\n  <tbody>\n    <tr>\n      <th>0</th>\n      <td>2019029790</td>\n      <td>45520035.82</td>\n      <td>43408154.09</td>\n      <td>2111881.73</td>\n      <td>2111881.73</td>\n      <td>4336364.29</td>\n      <td>4330295.89</td>\n      <td>人民币</td>\n      <td>NaN</td>\n      <td>NaN</td>\n      <td>NaN</td>\n      <td>NaN</td>\n      <td>NaN</td>\n    </tr>\n  </tbody>\n</table>\n</div>"
     },
     "execution_count": 38,
     "metadata": {},
     "output_type": "execute_result"
    }
   ],
   "source": [
    "\n",
    "fpath = f'D:/data/A_trading_data/1500+/A_result/{str_date}/2hao_MS/holding_sw.csv'\n",
    "df_capital, df_holding = process_raw_data_cash(fpath)\n",
    "df_capital\n"
   ],
   "metadata": {
    "collapsed": false,
    "pycharm": {
     "name": "#%%\n"
    }
   }
  },
  {
   "cell_type": "code",
   "execution_count": 24,
   "outputs": [
    {
     "data": {
      "text/plain": "      证券代码        市值 bsitem\n0   603360  390474.0     st\n1   603528   39150.0     st\n2   603538  371175.0     st\n3   603669  405440.0     st\n4   603686  245106.0     st\n..     ...       ...    ...\n57  603069   63375.0     st\n58  002332  370761.0     st\n59  002258  295230.0     st\n60  300575  281770.0     st\n61  300751  310860.0     st\n\n[62 rows x 3 columns]",
      "text/html": "<div>\n<style scoped>\n    .dataframe tbody tr th:only-of-type {\n        vertical-align: middle;\n    }\n\n    .dataframe tbody tr th {\n        vertical-align: top;\n    }\n\n    .dataframe thead th {\n        text-align: right;\n    }\n</style>\n<table border=\"1\" class=\"dataframe\">\n  <thead>\n    <tr style=\"text-align: right;\">\n      <th></th>\n      <th>证券代码</th>\n      <th>市值</th>\n      <th>bsitem</th>\n    </tr>\n  </thead>\n  <tbody>\n    <tr>\n      <th>0</th>\n      <td>603360</td>\n      <td>390474.0</td>\n      <td>st</td>\n    </tr>\n    <tr>\n      <th>1</th>\n      <td>603528</td>\n      <td>39150.0</td>\n      <td>st</td>\n    </tr>\n    <tr>\n      <th>2</th>\n      <td>603538</td>\n      <td>371175.0</td>\n      <td>st</td>\n    </tr>\n    <tr>\n      <th>3</th>\n      <td>603669</td>\n      <td>405440.0</td>\n      <td>st</td>\n    </tr>\n    <tr>\n      <th>4</th>\n      <td>603686</td>\n      <td>245106.0</td>\n      <td>st</td>\n    </tr>\n    <tr>\n      <th>...</th>\n      <td>...</td>\n      <td>...</td>\n      <td>...</td>\n    </tr>\n    <tr>\n      <th>57</th>\n      <td>603069</td>\n      <td>63375.0</td>\n      <td>st</td>\n    </tr>\n    <tr>\n      <th>58</th>\n      <td>002332</td>\n      <td>370761.0</td>\n      <td>st</td>\n    </tr>\n    <tr>\n      <th>59</th>\n      <td>002258</td>\n      <td>295230.0</td>\n      <td>st</td>\n    </tr>\n    <tr>\n      <th>60</th>\n      <td>300575</td>\n      <td>281770.0</td>\n      <td>st</td>\n    </tr>\n    <tr>\n      <th>61</th>\n      <td>300751</td>\n      <td>310860.0</td>\n      <td>st</td>\n    </tr>\n  </tbody>\n</table>\n<p>62 rows × 3 columns</p>\n</div>"
     },
     "execution_count": 24,
     "metadata": {},
     "output_type": "execute_result"
    }
   ],
   "source": [
    "# 此步骤之前，需要规范一下列名。\n",
    "df_holding_draft = df_holding.loc[:, ['证券代码', '市值']]\n",
    "df_holding_draft['bsitem'] = df_holding_draft['证券代码'].apply(seccode2bsitem)\n",
    "holding_mv = df_holding_draft.groupby(by='bsitem').sum().T\n",
    "dict_bs_mv = holding_mv.to_dict('record')\n",
    "dict_bs_mv"
   ],
   "metadata": {
    "collapsed": false,
    "pycharm": {
     "name": "#%%\n"
    }
   }
  },
  {
   "cell_type": "code",
   "execution_count": 31,
   "outputs": [
    {
     "data": {
      "text/plain": "                       0\n资产账户          2019029790\n总资产          4.53155e+07\n市值           4.31975e+07\n资金资产         2.11795e+06\n资金可用金        2.11795e+06\n资金冻结金        3.99109e+06\n资金解冻金        4.27167e+06\n货币代码                 人民币\nUnnamed: 8           NaN\nUnnamed: 9           NaN\nUnnamed: 10          NaN\nUnnamed: 11          NaN\nUnnamed: 12          NaN",
      "text/html": "<div>\n<style scoped>\n    .dataframe tbody tr th:only-of-type {\n        vertical-align: middle;\n    }\n\n    .dataframe tbody tr th {\n        vertical-align: top;\n    }\n\n    .dataframe thead th {\n        text-align: right;\n    }\n</style>\n<table border=\"1\" class=\"dataframe\">\n  <thead>\n    <tr style=\"text-align: right;\">\n      <th></th>\n      <th>0</th>\n    </tr>\n  </thead>\n  <tbody>\n    <tr>\n      <th>资产账户</th>\n      <td>2019029790</td>\n    </tr>\n    <tr>\n      <th>总资产</th>\n      <td>4.53155e+07</td>\n    </tr>\n    <tr>\n      <th>市值</th>\n      <td>4.31975e+07</td>\n    </tr>\n    <tr>\n      <th>资金资产</th>\n      <td>2.11795e+06</td>\n    </tr>\n    <tr>\n      <th>资金可用金</th>\n      <td>2.11795e+06</td>\n    </tr>\n    <tr>\n      <th>资金冻结金</th>\n      <td>3.99109e+06</td>\n    </tr>\n    <tr>\n      <th>资金解冻金</th>\n      <td>4.27167e+06</td>\n    </tr>\n    <tr>\n      <th>货币代码</th>\n      <td>人民币</td>\n    </tr>\n    <tr>\n      <th>Unnamed: 8</th>\n      <td>NaN</td>\n    </tr>\n    <tr>\n      <th>Unnamed: 9</th>\n      <td>NaN</td>\n    </tr>\n    <tr>\n      <th>Unnamed: 10</th>\n      <td>NaN</td>\n    </tr>\n    <tr>\n      <th>Unnamed: 11</th>\n      <td>NaN</td>\n    </tr>\n    <tr>\n      <th>Unnamed: 12</th>\n      <td>NaN</td>\n    </tr>\n  </tbody>\n</table>\n</div>"
     },
     "execution_count": 31,
     "metadata": {},
     "output_type": "execute_result"
    }
   ],
   "source": [
    "df_capital.T"
   ],
   "metadata": {
    "collapsed": false,
    "pycharm": {
     "name": "#%%\n"
    }
   }
  },
  {
   "cell_type": "code",
   "execution_count": 45,
   "outputs": [
    {
     "ename": "XLRDError",
     "evalue": "Unsupported format, or corrupt file: Expected BOF record; found b'=\"\\xb1\\xd2\\xd6\\xd6\"\\t'",
     "output_type": "error",
     "traceback": [
      "\u001B[1;31m---------------------------------------------------------------------------\u001B[0m",
      "\u001B[1;31mXLRDError\u001B[0m                                 Traceback (most recent call last)",
      "\u001B[1;32m<ipython-input-45-0ac11c3db7b7>\u001B[0m in \u001B[0;36m<module>\u001B[1;34m\u001B[0m\n\u001B[0;32m      7\u001B[0m     \u001B[1;32mif\u001B[0m \u001B[1;34m'/'\u001B[0m \u001B[1;32min\u001B[0m \u001B[0mfpath_holding\u001B[0m\u001B[1;33m:\u001B[0m\u001B[1;33m\u001B[0m\u001B[1;33m\u001B[0m\u001B[0m\n\u001B[0;32m      8\u001B[0m         \u001B[0mfpath_holding\u001B[0m \u001B[1;33m=\u001B[0m \u001B[0mdirpath\u001B[0m \u001B[1;33m+\u001B[0m \u001B[0mfpath_holding\u001B[0m\u001B[1;33m\u001B[0m\u001B[1;33m\u001B[0m\u001B[0m\n\u001B[1;32m----> 9\u001B[1;33m         \u001B[0mdf_capital\u001B[0m\u001B[1;33m,\u001B[0m \u001B[0mdf_holding\u001B[0m \u001B[1;33m=\u001B[0m \u001B[0mprocess_raw_data_cash\u001B[0m\u001B[1;33m(\u001B[0m\u001B[0mfpath_holding\u001B[0m\u001B[1;33m)\u001B[0m\u001B[1;33m\u001B[0m\u001B[1;33m\u001B[0m\u001B[0m\n\u001B[0m\u001B[0;32m     10\u001B[0m         \u001B[0mprint\u001B[0m\u001B[1;33m(\u001B[0m\u001B[0mdf_capital\u001B[0m\u001B[1;33m[\u001B[0m\u001B[1;33m:\u001B[0m\u001B[1;36m2\u001B[0m\u001B[1;33m]\u001B[0m\u001B[1;33m)\u001B[0m\u001B[1;33m\u001B[0m\u001B[1;33m\u001B[0m\u001B[0m\n\u001B[0;32m     11\u001B[0m         \u001B[0mprint\u001B[0m\u001B[1;33m(\u001B[0m\u001B[0mdf_holding\u001B[0m\u001B[1;33m[\u001B[0m\u001B[1;33m:\u001B[0m\u001B[1;36m2\u001B[0m\u001B[1;33m]\u001B[0m\u001B[1;33m)\u001B[0m\u001B[1;33m\u001B[0m\u001B[1;33m\u001B[0m\u001B[0m\n",
      "\u001B[1;32m<ipython-input-44-09b4de9f62bc>\u001B[0m in \u001B[0;36mprocess_raw_data_cash\u001B[1;34m(__fpath_holding)\u001B[0m\n\u001B[0;32m     35\u001B[0m     \u001B[0mstr_ext\u001B[0m \u001B[1;33m=\u001B[0m \u001B[0mos\u001B[0m\u001B[1;33m.\u001B[0m\u001B[0mpath\u001B[0m\u001B[1;33m.\u001B[0m\u001B[0msplitext\u001B[0m\u001B[1;33m(\u001B[0m\u001B[0m__fpath_holding\u001B[0m\u001B[1;33m)\u001B[0m\u001B[1;33m[\u001B[0m\u001B[1;36m1\u001B[0m\u001B[1;33m]\u001B[0m\u001B[1;33m\u001B[0m\u001B[1;33m\u001B[0m\u001B[0m\n\u001B[0;32m     36\u001B[0m     \u001B[1;32mif\u001B[0m \u001B[0mstr_ext\u001B[0m \u001B[1;32min\u001B[0m \u001B[1;33m[\u001B[0m\u001B[1;34m'.xlsx'\u001B[0m\u001B[1;33m,\u001B[0m \u001B[1;34m'.xls'\u001B[0m\u001B[1;33m]\u001B[0m\u001B[1;33m:\u001B[0m\u001B[1;33m\u001B[0m\u001B[1;33m\u001B[0m\u001B[0m\n\u001B[1;32m---> 37\u001B[1;33m         \u001B[0m__df_capital\u001B[0m \u001B[1;33m=\u001B[0m \u001B[0mpd\u001B[0m\u001B[1;33m.\u001B[0m\u001B[0mread_excel\u001B[0m\u001B[1;33m(\u001B[0m\u001B[0m__fpath_holding\u001B[0m\u001B[1;33m,\u001B[0m \u001B[0mnrows\u001B[0m\u001B[1;33m=\u001B[0m\u001B[1;36m1\u001B[0m\u001B[1;33m,\u001B[0m \u001B[0mencoding\u001B[0m\u001B[1;33m=\u001B[0m\u001B[1;34m'gbk'\u001B[0m\u001B[1;33m)\u001B[0m\u001B[1;33m\u001B[0m\u001B[1;33m\u001B[0m\u001B[0m\n\u001B[0m\u001B[0;32m     38\u001B[0m         \u001B[0m__df_holding\u001B[0m \u001B[1;33m=\u001B[0m \u001B[0mpd\u001B[0m\u001B[1;33m.\u001B[0m\u001B[0mread_excel\u001B[0m\u001B[1;33m(\u001B[0m\u001B[0m__fpath_holding\u001B[0m\u001B[1;33m,\u001B[0m \u001B[0mskiprows\u001B[0m\u001B[1;33m=\u001B[0m\u001B[1;36m3\u001B[0m\u001B[1;33m,\u001B[0m \u001B[0mencoding\u001B[0m\u001B[1;33m=\u001B[0m\u001B[1;34m'gbk'\u001B[0m\u001B[1;33m)\u001B[0m\u001B[1;33m\u001B[0m\u001B[1;33m\u001B[0m\u001B[0m\n\u001B[0;32m     39\u001B[0m     \u001B[1;32melif\u001B[0m \u001B[0mstr_ext\u001B[0m \u001B[1;33m==\u001B[0m \u001B[1;34m'.csv'\u001B[0m\u001B[1;33m:\u001B[0m\u001B[1;33m\u001B[0m\u001B[1;33m\u001B[0m\u001B[0m\n",
      "\u001B[1;32mD:\\programfiles\\anaconda3\\lib\\site-packages\\pandas\\io\\excel\\_base.py\u001B[0m in \u001B[0;36mread_excel\u001B[1;34m(io, sheet_name, header, names, index_col, usecols, squeeze, dtype, engine, converters, true_values, false_values, skiprows, nrows, na_values, keep_default_na, verbose, parse_dates, date_parser, thousands, comment, skipfooter, convert_float, mangle_dupe_cols, **kwds)\u001B[0m\n\u001B[0;32m    302\u001B[0m \u001B[1;33m\u001B[0m\u001B[0m\n\u001B[0;32m    303\u001B[0m     \u001B[1;32mif\u001B[0m \u001B[1;32mnot\u001B[0m \u001B[0misinstance\u001B[0m\u001B[1;33m(\u001B[0m\u001B[0mio\u001B[0m\u001B[1;33m,\u001B[0m \u001B[0mExcelFile\u001B[0m\u001B[1;33m)\u001B[0m\u001B[1;33m:\u001B[0m\u001B[1;33m\u001B[0m\u001B[1;33m\u001B[0m\u001B[0m\n\u001B[1;32m--> 304\u001B[1;33m         \u001B[0mio\u001B[0m \u001B[1;33m=\u001B[0m \u001B[0mExcelFile\u001B[0m\u001B[1;33m(\u001B[0m\u001B[0mio\u001B[0m\u001B[1;33m,\u001B[0m \u001B[0mengine\u001B[0m\u001B[1;33m=\u001B[0m\u001B[0mengine\u001B[0m\u001B[1;33m)\u001B[0m\u001B[1;33m\u001B[0m\u001B[1;33m\u001B[0m\u001B[0m\n\u001B[0m\u001B[0;32m    305\u001B[0m     \u001B[1;32melif\u001B[0m \u001B[0mengine\u001B[0m \u001B[1;32mand\u001B[0m \u001B[0mengine\u001B[0m \u001B[1;33m!=\u001B[0m \u001B[0mio\u001B[0m\u001B[1;33m.\u001B[0m\u001B[0mengine\u001B[0m\u001B[1;33m:\u001B[0m\u001B[1;33m\u001B[0m\u001B[1;33m\u001B[0m\u001B[0m\n\u001B[0;32m    306\u001B[0m         raise ValueError(\n",
      "\u001B[1;32mD:\\programfiles\\anaconda3\\lib\\site-packages\\pandas\\io\\excel\\_base.py\u001B[0m in \u001B[0;36m__init__\u001B[1;34m(self, io, engine)\u001B[0m\n\u001B[0;32m    819\u001B[0m         \u001B[0mself\u001B[0m\u001B[1;33m.\u001B[0m\u001B[0m_io\u001B[0m \u001B[1;33m=\u001B[0m \u001B[0mstringify_path\u001B[0m\u001B[1;33m(\u001B[0m\u001B[0mio\u001B[0m\u001B[1;33m)\u001B[0m\u001B[1;33m\u001B[0m\u001B[1;33m\u001B[0m\u001B[0m\n\u001B[0;32m    820\u001B[0m \u001B[1;33m\u001B[0m\u001B[0m\n\u001B[1;32m--> 821\u001B[1;33m         \u001B[0mself\u001B[0m\u001B[1;33m.\u001B[0m\u001B[0m_reader\u001B[0m \u001B[1;33m=\u001B[0m \u001B[0mself\u001B[0m\u001B[1;33m.\u001B[0m\u001B[0m_engines\u001B[0m\u001B[1;33m[\u001B[0m\u001B[0mengine\u001B[0m\u001B[1;33m]\u001B[0m\u001B[1;33m(\u001B[0m\u001B[0mself\u001B[0m\u001B[1;33m.\u001B[0m\u001B[0m_io\u001B[0m\u001B[1;33m)\u001B[0m\u001B[1;33m\u001B[0m\u001B[1;33m\u001B[0m\u001B[0m\n\u001B[0m\u001B[0;32m    822\u001B[0m \u001B[1;33m\u001B[0m\u001B[0m\n\u001B[0;32m    823\u001B[0m     \u001B[1;32mdef\u001B[0m \u001B[0m__fspath__\u001B[0m\u001B[1;33m(\u001B[0m\u001B[0mself\u001B[0m\u001B[1;33m)\u001B[0m\u001B[1;33m:\u001B[0m\u001B[1;33m\u001B[0m\u001B[1;33m\u001B[0m\u001B[0m\n",
      "\u001B[1;32mD:\\programfiles\\anaconda3\\lib\\site-packages\\pandas\\io\\excel\\_xlrd.py\u001B[0m in \u001B[0;36m__init__\u001B[1;34m(self, filepath_or_buffer)\u001B[0m\n\u001B[0;32m     19\u001B[0m         \u001B[0merr_msg\u001B[0m \u001B[1;33m=\u001B[0m \u001B[1;34m\"Install xlrd >= 1.0.0 for Excel support\"\u001B[0m\u001B[1;33m\u001B[0m\u001B[1;33m\u001B[0m\u001B[0m\n\u001B[0;32m     20\u001B[0m         \u001B[0mimport_optional_dependency\u001B[0m\u001B[1;33m(\u001B[0m\u001B[1;34m\"xlrd\"\u001B[0m\u001B[1;33m,\u001B[0m \u001B[0mextra\u001B[0m\u001B[1;33m=\u001B[0m\u001B[0merr_msg\u001B[0m\u001B[1;33m)\u001B[0m\u001B[1;33m\u001B[0m\u001B[1;33m\u001B[0m\u001B[0m\n\u001B[1;32m---> 21\u001B[1;33m         \u001B[0msuper\u001B[0m\u001B[1;33m(\u001B[0m\u001B[1;33m)\u001B[0m\u001B[1;33m.\u001B[0m\u001B[0m__init__\u001B[0m\u001B[1;33m(\u001B[0m\u001B[0mfilepath_or_buffer\u001B[0m\u001B[1;33m)\u001B[0m\u001B[1;33m\u001B[0m\u001B[1;33m\u001B[0m\u001B[0m\n\u001B[0m\u001B[0;32m     22\u001B[0m \u001B[1;33m\u001B[0m\u001B[0m\n\u001B[0;32m     23\u001B[0m     \u001B[1;33m@\u001B[0m\u001B[0mproperty\u001B[0m\u001B[1;33m\u001B[0m\u001B[1;33m\u001B[0m\u001B[0m\n",
      "\u001B[1;32mD:\\programfiles\\anaconda3\\lib\\site-packages\\pandas\\io\\excel\\_base.py\u001B[0m in \u001B[0;36m__init__\u001B[1;34m(self, filepath_or_buffer)\u001B[0m\n\u001B[0;32m    351\u001B[0m             \u001B[0mself\u001B[0m\u001B[1;33m.\u001B[0m\u001B[0mbook\u001B[0m \u001B[1;33m=\u001B[0m \u001B[0mself\u001B[0m\u001B[1;33m.\u001B[0m\u001B[0mload_workbook\u001B[0m\u001B[1;33m(\u001B[0m\u001B[0mfilepath_or_buffer\u001B[0m\u001B[1;33m)\u001B[0m\u001B[1;33m\u001B[0m\u001B[1;33m\u001B[0m\u001B[0m\n\u001B[0;32m    352\u001B[0m         \u001B[1;32melif\u001B[0m \u001B[0misinstance\u001B[0m\u001B[1;33m(\u001B[0m\u001B[0mfilepath_or_buffer\u001B[0m\u001B[1;33m,\u001B[0m \u001B[0mstr\u001B[0m\u001B[1;33m)\u001B[0m\u001B[1;33m:\u001B[0m\u001B[1;33m\u001B[0m\u001B[1;33m\u001B[0m\u001B[0m\n\u001B[1;32m--> 353\u001B[1;33m             \u001B[0mself\u001B[0m\u001B[1;33m.\u001B[0m\u001B[0mbook\u001B[0m \u001B[1;33m=\u001B[0m \u001B[0mself\u001B[0m\u001B[1;33m.\u001B[0m\u001B[0mload_workbook\u001B[0m\u001B[1;33m(\u001B[0m\u001B[0mfilepath_or_buffer\u001B[0m\u001B[1;33m)\u001B[0m\u001B[1;33m\u001B[0m\u001B[1;33m\u001B[0m\u001B[0m\n\u001B[0m\u001B[0;32m    354\u001B[0m         \u001B[1;32melif\u001B[0m \u001B[0misinstance\u001B[0m\u001B[1;33m(\u001B[0m\u001B[0mfilepath_or_buffer\u001B[0m\u001B[1;33m,\u001B[0m \u001B[0mbytes\u001B[0m\u001B[1;33m)\u001B[0m\u001B[1;33m:\u001B[0m\u001B[1;33m\u001B[0m\u001B[1;33m\u001B[0m\u001B[0m\n\u001B[0;32m    355\u001B[0m             \u001B[0mself\u001B[0m\u001B[1;33m.\u001B[0m\u001B[0mbook\u001B[0m \u001B[1;33m=\u001B[0m \u001B[0mself\u001B[0m\u001B[1;33m.\u001B[0m\u001B[0mload_workbook\u001B[0m\u001B[1;33m(\u001B[0m\u001B[0mBytesIO\u001B[0m\u001B[1;33m(\u001B[0m\u001B[0mfilepath_or_buffer\u001B[0m\u001B[1;33m)\u001B[0m\u001B[1;33m)\u001B[0m\u001B[1;33m\u001B[0m\u001B[1;33m\u001B[0m\u001B[0m\n",
      "\u001B[1;32mD:\\programfiles\\anaconda3\\lib\\site-packages\\pandas\\io\\excel\\_xlrd.py\u001B[0m in \u001B[0;36mload_workbook\u001B[1;34m(self, filepath_or_buffer)\u001B[0m\n\u001B[0;32m     34\u001B[0m             \u001B[1;32mreturn\u001B[0m \u001B[0mopen_workbook\u001B[0m\u001B[1;33m(\u001B[0m\u001B[0mfile_contents\u001B[0m\u001B[1;33m=\u001B[0m\u001B[0mdata\u001B[0m\u001B[1;33m)\u001B[0m\u001B[1;33m\u001B[0m\u001B[1;33m\u001B[0m\u001B[0m\n\u001B[0;32m     35\u001B[0m         \u001B[1;32melse\u001B[0m\u001B[1;33m:\u001B[0m\u001B[1;33m\u001B[0m\u001B[1;33m\u001B[0m\u001B[0m\n\u001B[1;32m---> 36\u001B[1;33m             \u001B[1;32mreturn\u001B[0m \u001B[0mopen_workbook\u001B[0m\u001B[1;33m(\u001B[0m\u001B[0mfilepath_or_buffer\u001B[0m\u001B[1;33m)\u001B[0m\u001B[1;33m\u001B[0m\u001B[1;33m\u001B[0m\u001B[0m\n\u001B[0m\u001B[0;32m     37\u001B[0m \u001B[1;33m\u001B[0m\u001B[0m\n\u001B[0;32m     38\u001B[0m     \u001B[1;33m@\u001B[0m\u001B[0mproperty\u001B[0m\u001B[1;33m\u001B[0m\u001B[1;33m\u001B[0m\u001B[0m\n",
      "\u001B[1;32mD:\\programfiles\\anaconda3\\lib\\site-packages\\xlrd\\__init__.py\u001B[0m in \u001B[0;36mopen_workbook\u001B[1;34m(filename, logfile, verbosity, use_mmap, file_contents, encoding_override, formatting_info, on_demand, ragged_rows)\u001B[0m\n\u001B[0;32m    155\u001B[0m         \u001B[0mformatting_info\u001B[0m\u001B[1;33m=\u001B[0m\u001B[0mformatting_info\u001B[0m\u001B[1;33m,\u001B[0m\u001B[1;33m\u001B[0m\u001B[1;33m\u001B[0m\u001B[0m\n\u001B[0;32m    156\u001B[0m         \u001B[0mon_demand\u001B[0m\u001B[1;33m=\u001B[0m\u001B[0mon_demand\u001B[0m\u001B[1;33m,\u001B[0m\u001B[1;33m\u001B[0m\u001B[1;33m\u001B[0m\u001B[0m\n\u001B[1;32m--> 157\u001B[1;33m         \u001B[0mragged_rows\u001B[0m\u001B[1;33m=\u001B[0m\u001B[0mragged_rows\u001B[0m\u001B[1;33m,\u001B[0m\u001B[1;33m\u001B[0m\u001B[1;33m\u001B[0m\u001B[0m\n\u001B[0m\u001B[0;32m    158\u001B[0m     )\n\u001B[0;32m    159\u001B[0m     \u001B[1;32mreturn\u001B[0m \u001B[0mbk\u001B[0m\u001B[1;33m\u001B[0m\u001B[1;33m\u001B[0m\u001B[0m\n",
      "\u001B[1;32mD:\\programfiles\\anaconda3\\lib\\site-packages\\xlrd\\book.py\u001B[0m in \u001B[0;36mopen_workbook_xls\u001B[1;34m(filename, logfile, verbosity, use_mmap, file_contents, encoding_override, formatting_info, on_demand, ragged_rows)\u001B[0m\n\u001B[0;32m     90\u001B[0m         \u001B[0mt1\u001B[0m \u001B[1;33m=\u001B[0m \u001B[0mperf_counter\u001B[0m\u001B[1;33m(\u001B[0m\u001B[1;33m)\u001B[0m\u001B[1;33m\u001B[0m\u001B[1;33m\u001B[0m\u001B[0m\n\u001B[0;32m     91\u001B[0m         \u001B[0mbk\u001B[0m\u001B[1;33m.\u001B[0m\u001B[0mload_time_stage_1\u001B[0m \u001B[1;33m=\u001B[0m \u001B[0mt1\u001B[0m \u001B[1;33m-\u001B[0m \u001B[0mt0\u001B[0m\u001B[1;33m\u001B[0m\u001B[1;33m\u001B[0m\u001B[0m\n\u001B[1;32m---> 92\u001B[1;33m         \u001B[0mbiff_version\u001B[0m \u001B[1;33m=\u001B[0m \u001B[0mbk\u001B[0m\u001B[1;33m.\u001B[0m\u001B[0mgetbof\u001B[0m\u001B[1;33m(\u001B[0m\u001B[0mXL_WORKBOOK_GLOBALS\u001B[0m\u001B[1;33m)\u001B[0m\u001B[1;33m\u001B[0m\u001B[1;33m\u001B[0m\u001B[0m\n\u001B[0m\u001B[0;32m     93\u001B[0m         \u001B[1;32mif\u001B[0m \u001B[1;32mnot\u001B[0m \u001B[0mbiff_version\u001B[0m\u001B[1;33m:\u001B[0m\u001B[1;33m\u001B[0m\u001B[1;33m\u001B[0m\u001B[0m\n\u001B[0;32m     94\u001B[0m             \u001B[1;32mraise\u001B[0m \u001B[0mXLRDError\u001B[0m\u001B[1;33m(\u001B[0m\u001B[1;34m\"Can't determine file's BIFF version\"\u001B[0m\u001B[1;33m)\u001B[0m\u001B[1;33m\u001B[0m\u001B[1;33m\u001B[0m\u001B[0m\n",
      "\u001B[1;32mD:\\programfiles\\anaconda3\\lib\\site-packages\\xlrd\\book.py\u001B[0m in \u001B[0;36mgetbof\u001B[1;34m(self, rqd_stream)\u001B[0m\n\u001B[0;32m   1276\u001B[0m             \u001B[0mbof_error\u001B[0m\u001B[1;33m(\u001B[0m\u001B[1;34m'Expected BOF record; met end of file'\u001B[0m\u001B[1;33m)\u001B[0m\u001B[1;33m\u001B[0m\u001B[1;33m\u001B[0m\u001B[0m\n\u001B[0;32m   1277\u001B[0m         \u001B[1;32mif\u001B[0m \u001B[0mopcode\u001B[0m \u001B[1;32mnot\u001B[0m \u001B[1;32min\u001B[0m \u001B[0mbofcodes\u001B[0m\u001B[1;33m:\u001B[0m\u001B[1;33m\u001B[0m\u001B[1;33m\u001B[0m\u001B[0m\n\u001B[1;32m-> 1278\u001B[1;33m             \u001B[0mbof_error\u001B[0m\u001B[1;33m(\u001B[0m\u001B[1;34m'Expected BOF record; found %r'\u001B[0m \u001B[1;33m%\u001B[0m \u001B[0mself\u001B[0m\u001B[1;33m.\u001B[0m\u001B[0mmem\u001B[0m\u001B[1;33m[\u001B[0m\u001B[0msavpos\u001B[0m\u001B[1;33m:\u001B[0m\u001B[0msavpos\u001B[0m\u001B[1;33m+\u001B[0m\u001B[1;36m8\u001B[0m\u001B[1;33m]\u001B[0m\u001B[1;33m)\u001B[0m\u001B[1;33m\u001B[0m\u001B[1;33m\u001B[0m\u001B[0m\n\u001B[0m\u001B[0;32m   1279\u001B[0m         \u001B[0mlength\u001B[0m \u001B[1;33m=\u001B[0m \u001B[0mself\u001B[0m\u001B[1;33m.\u001B[0m\u001B[0mget2bytes\u001B[0m\u001B[1;33m(\u001B[0m\u001B[1;33m)\u001B[0m\u001B[1;33m\u001B[0m\u001B[1;33m\u001B[0m\u001B[0m\n\u001B[0;32m   1280\u001B[0m         \u001B[1;32mif\u001B[0m \u001B[0mlength\u001B[0m \u001B[1;33m==\u001B[0m \u001B[0mMY_EOF\u001B[0m\u001B[1;33m:\u001B[0m\u001B[1;33m\u001B[0m\u001B[1;33m\u001B[0m\u001B[0m\n",
      "\u001B[1;32mD:\\programfiles\\anaconda3\\lib\\site-packages\\xlrd\\book.py\u001B[0m in \u001B[0;36mbof_error\u001B[1;34m(msg)\u001B[0m\n\u001B[0;32m   1270\u001B[0m \u001B[1;33m\u001B[0m\u001B[0m\n\u001B[0;32m   1271\u001B[0m         \u001B[1;32mdef\u001B[0m \u001B[0mbof_error\u001B[0m\u001B[1;33m(\u001B[0m\u001B[0mmsg\u001B[0m\u001B[1;33m)\u001B[0m\u001B[1;33m:\u001B[0m\u001B[1;33m\u001B[0m\u001B[1;33m\u001B[0m\u001B[0m\n\u001B[1;32m-> 1272\u001B[1;33m             \u001B[1;32mraise\u001B[0m \u001B[0mXLRDError\u001B[0m\u001B[1;33m(\u001B[0m\u001B[1;34m'Unsupported format, or corrupt file: '\u001B[0m \u001B[1;33m+\u001B[0m \u001B[0mmsg\u001B[0m\u001B[1;33m)\u001B[0m\u001B[1;33m\u001B[0m\u001B[1;33m\u001B[0m\u001B[0m\n\u001B[0m\u001B[0;32m   1273\u001B[0m         \u001B[0msavpos\u001B[0m \u001B[1;33m=\u001B[0m \u001B[0mself\u001B[0m\u001B[1;33m.\u001B[0m\u001B[0m_position\u001B[0m\u001B[1;33m\u001B[0m\u001B[1;33m\u001B[0m\u001B[0m\n\u001B[0;32m   1274\u001B[0m         \u001B[0mopcode\u001B[0m \u001B[1;33m=\u001B[0m \u001B[0mself\u001B[0m\u001B[1;33m.\u001B[0m\u001B[0mget2bytes\u001B[0m\u001B[1;33m(\u001B[0m\u001B[1;33m)\u001B[0m\u001B[1;33m\u001B[0m\u001B[1;33m\u001B[0m\u001B[0m\n",
      "\u001B[1;31mXLRDError\u001B[0m: Unsupported format, or corrupt file: Expected BOF record; found b'=\"\\xb1\\xd2\\xd6\\xd6\"\\t'"
     ]
    }
   ],
   "source": [
    "dirpath = f'D:/data/A_trading_data/1500+/A_result/{str_date}'\n",
    "client = pymongo.MongoClient('mongodb://localhost:27017/')\n",
    "db_basicinfo = client['basicinfo']\n",
    "col_myacctsinfo = db_basicinfo['myacctsinfo']\n",
    "for _ in col_myacctsinfo.find({'date': str_date, 'rptmark': '1'}):\n",
    "    fpath_holding = _['fpath_holding']\n",
    "    if '/' in fpath_holding:\n",
    "        fpath_holding = dirpath + fpath_holding\n",
    "        df_capital, df_holding = process_raw_data_cash(fpath_holding)\n",
    "        print(df_capital[:2])\n",
    "        print(df_holding[:2])\n",
    "\n",
    "\n",
    "\n"
   ],
   "metadata": {
    "collapsed": false,
    "pycharm": {
     "name": "#%%\n"
    }
   }
  },
  {
   "cell_type": "code",
   "execution_count": 59,
   "outputs": [
    {
     "ename": "XLRDError",
     "evalue": "Unsupported format, or corrupt file: Expected BOF record; found b'=\"\\xb1\\xd2\\xd6\\xd6\"\\t'",
     "output_type": "error",
     "traceback": [
      "\u001B[1;31m---------------------------------------------------------------------------\u001B[0m",
      "\u001B[1;31mXLRDError\u001B[0m                                 Traceback (most recent call last)",
      "\u001B[1;32m<ipython-input-59-51035e9a2baf>\u001B[0m in \u001B[0;36m<module>\u001B[1;34m\u001B[0m\n\u001B[0;32m      1\u001B[0m \u001B[0mfpath\u001B[0m \u001B[1;33m=\u001B[0m \u001B[1;34mf'D:/data/A_trading_data/1500+/A_result/20200414/1203hao/holding.xls'\u001B[0m\u001B[1;33m\u001B[0m\u001B[1;33m\u001B[0m\u001B[0m\n\u001B[1;32m----> 2\u001B[1;33m \u001B[0mdf_capital\u001B[0m\u001B[1;33m,\u001B[0m \u001B[0mdf_holding\u001B[0m \u001B[1;33m=\u001B[0m \u001B[0mprocess_raw_data_cash\u001B[0m\u001B[1;33m(\u001B[0m\u001B[0mfpath\u001B[0m\u001B[1;33m)\u001B[0m\u001B[1;33m\u001B[0m\u001B[1;33m\u001B[0m\u001B[0m\n\u001B[0m\u001B[0;32m      3\u001B[0m \u001B[0mdf_holding\u001B[0m\u001B[1;33m\u001B[0m\u001B[1;33m\u001B[0m\u001B[0m\n",
      "\u001B[1;32m<ipython-input-50-00c5884258e7>\u001B[0m in \u001B[0;36mprocess_raw_data_cash\u001B[1;34m(__fpath_holding)\u001B[0m\n\u001B[0;32m     35\u001B[0m     \u001B[0mstr_ext\u001B[0m \u001B[1;33m=\u001B[0m \u001B[0mos\u001B[0m\u001B[1;33m.\u001B[0m\u001B[0mpath\u001B[0m\u001B[1;33m.\u001B[0m\u001B[0msplitext\u001B[0m\u001B[1;33m(\u001B[0m\u001B[0m__fpath_holding\u001B[0m\u001B[1;33m)\u001B[0m\u001B[1;33m[\u001B[0m\u001B[1;36m1\u001B[0m\u001B[1;33m]\u001B[0m\u001B[1;33m\u001B[0m\u001B[1;33m\u001B[0m\u001B[0m\n\u001B[0;32m     36\u001B[0m     \u001B[1;32mif\u001B[0m \u001B[0mstr_ext\u001B[0m \u001B[1;32min\u001B[0m \u001B[1;33m[\u001B[0m\u001B[1;34m'.xlsx'\u001B[0m\u001B[1;33m,\u001B[0m \u001B[1;34m'.xls'\u001B[0m\u001B[1;33m]\u001B[0m\u001B[1;33m:\u001B[0m\u001B[1;33m\u001B[0m\u001B[1;33m\u001B[0m\u001B[0m\n\u001B[1;32m---> 37\u001B[1;33m         \u001B[0m__df_capital\u001B[0m \u001B[1;33m=\u001B[0m \u001B[0mpd\u001B[0m\u001B[1;33m.\u001B[0m\u001B[0mread_excel\u001B[0m\u001B[1;33m(\u001B[0m\u001B[0m__fpath_holding\u001B[0m\u001B[1;33m)\u001B[0m\u001B[1;33m\u001B[0m\u001B[1;33m\u001B[0m\u001B[0m\n\u001B[0m\u001B[0;32m     38\u001B[0m         \u001B[0m__df_holding\u001B[0m \u001B[1;33m=\u001B[0m \u001B[0mpd\u001B[0m\u001B[1;33m.\u001B[0m\u001B[0mread_excel\u001B[0m\u001B[1;33m(\u001B[0m\u001B[0m__fpath_holding\u001B[0m\u001B[1;33m)\u001B[0m\u001B[1;33m\u001B[0m\u001B[1;33m\u001B[0m\u001B[0m\n\u001B[0;32m     39\u001B[0m     \u001B[1;32melif\u001B[0m \u001B[0mstr_ext\u001B[0m \u001B[1;33m==\u001B[0m \u001B[1;34m'.csv'\u001B[0m\u001B[1;33m:\u001B[0m\u001B[1;33m\u001B[0m\u001B[1;33m\u001B[0m\u001B[0m\n",
      "\u001B[1;32mD:\\programfiles\\anaconda3\\lib\\site-packages\\pandas\\io\\excel\\_base.py\u001B[0m in \u001B[0;36mread_excel\u001B[1;34m(io, sheet_name, header, names, index_col, usecols, squeeze, dtype, engine, converters, true_values, false_values, skiprows, nrows, na_values, keep_default_na, verbose, parse_dates, date_parser, thousands, comment, skipfooter, convert_float, mangle_dupe_cols, **kwds)\u001B[0m\n\u001B[0;32m    302\u001B[0m \u001B[1;33m\u001B[0m\u001B[0m\n\u001B[0;32m    303\u001B[0m     \u001B[1;32mif\u001B[0m \u001B[1;32mnot\u001B[0m \u001B[0misinstance\u001B[0m\u001B[1;33m(\u001B[0m\u001B[0mio\u001B[0m\u001B[1;33m,\u001B[0m \u001B[0mExcelFile\u001B[0m\u001B[1;33m)\u001B[0m\u001B[1;33m:\u001B[0m\u001B[1;33m\u001B[0m\u001B[1;33m\u001B[0m\u001B[0m\n\u001B[1;32m--> 304\u001B[1;33m         \u001B[0mio\u001B[0m \u001B[1;33m=\u001B[0m \u001B[0mExcelFile\u001B[0m\u001B[1;33m(\u001B[0m\u001B[0mio\u001B[0m\u001B[1;33m,\u001B[0m \u001B[0mengine\u001B[0m\u001B[1;33m=\u001B[0m\u001B[0mengine\u001B[0m\u001B[1;33m)\u001B[0m\u001B[1;33m\u001B[0m\u001B[1;33m\u001B[0m\u001B[0m\n\u001B[0m\u001B[0;32m    305\u001B[0m     \u001B[1;32melif\u001B[0m \u001B[0mengine\u001B[0m \u001B[1;32mand\u001B[0m \u001B[0mengine\u001B[0m \u001B[1;33m!=\u001B[0m \u001B[0mio\u001B[0m\u001B[1;33m.\u001B[0m\u001B[0mengine\u001B[0m\u001B[1;33m:\u001B[0m\u001B[1;33m\u001B[0m\u001B[1;33m\u001B[0m\u001B[0m\n\u001B[0;32m    306\u001B[0m         raise ValueError(\n",
      "\u001B[1;32mD:\\programfiles\\anaconda3\\lib\\site-packages\\pandas\\io\\excel\\_base.py\u001B[0m in \u001B[0;36m__init__\u001B[1;34m(self, io, engine)\u001B[0m\n\u001B[0;32m    819\u001B[0m         \u001B[0mself\u001B[0m\u001B[1;33m.\u001B[0m\u001B[0m_io\u001B[0m \u001B[1;33m=\u001B[0m \u001B[0mstringify_path\u001B[0m\u001B[1;33m(\u001B[0m\u001B[0mio\u001B[0m\u001B[1;33m)\u001B[0m\u001B[1;33m\u001B[0m\u001B[1;33m\u001B[0m\u001B[0m\n\u001B[0;32m    820\u001B[0m \u001B[1;33m\u001B[0m\u001B[0m\n\u001B[1;32m--> 821\u001B[1;33m         \u001B[0mself\u001B[0m\u001B[1;33m.\u001B[0m\u001B[0m_reader\u001B[0m \u001B[1;33m=\u001B[0m \u001B[0mself\u001B[0m\u001B[1;33m.\u001B[0m\u001B[0m_engines\u001B[0m\u001B[1;33m[\u001B[0m\u001B[0mengine\u001B[0m\u001B[1;33m]\u001B[0m\u001B[1;33m(\u001B[0m\u001B[0mself\u001B[0m\u001B[1;33m.\u001B[0m\u001B[0m_io\u001B[0m\u001B[1;33m)\u001B[0m\u001B[1;33m\u001B[0m\u001B[1;33m\u001B[0m\u001B[0m\n\u001B[0m\u001B[0;32m    822\u001B[0m \u001B[1;33m\u001B[0m\u001B[0m\n\u001B[0;32m    823\u001B[0m     \u001B[1;32mdef\u001B[0m \u001B[0m__fspath__\u001B[0m\u001B[1;33m(\u001B[0m\u001B[0mself\u001B[0m\u001B[1;33m)\u001B[0m\u001B[1;33m:\u001B[0m\u001B[1;33m\u001B[0m\u001B[1;33m\u001B[0m\u001B[0m\n",
      "\u001B[1;32mD:\\programfiles\\anaconda3\\lib\\site-packages\\pandas\\io\\excel\\_xlrd.py\u001B[0m in \u001B[0;36m__init__\u001B[1;34m(self, filepath_or_buffer)\u001B[0m\n\u001B[0;32m     19\u001B[0m         \u001B[0merr_msg\u001B[0m \u001B[1;33m=\u001B[0m \u001B[1;34m\"Install xlrd >= 1.0.0 for Excel support\"\u001B[0m\u001B[1;33m\u001B[0m\u001B[1;33m\u001B[0m\u001B[0m\n\u001B[0;32m     20\u001B[0m         \u001B[0mimport_optional_dependency\u001B[0m\u001B[1;33m(\u001B[0m\u001B[1;34m\"xlrd\"\u001B[0m\u001B[1;33m,\u001B[0m \u001B[0mextra\u001B[0m\u001B[1;33m=\u001B[0m\u001B[0merr_msg\u001B[0m\u001B[1;33m)\u001B[0m\u001B[1;33m\u001B[0m\u001B[1;33m\u001B[0m\u001B[0m\n\u001B[1;32m---> 21\u001B[1;33m         \u001B[0msuper\u001B[0m\u001B[1;33m(\u001B[0m\u001B[1;33m)\u001B[0m\u001B[1;33m.\u001B[0m\u001B[0m__init__\u001B[0m\u001B[1;33m(\u001B[0m\u001B[0mfilepath_or_buffer\u001B[0m\u001B[1;33m)\u001B[0m\u001B[1;33m\u001B[0m\u001B[1;33m\u001B[0m\u001B[0m\n\u001B[0m\u001B[0;32m     22\u001B[0m \u001B[1;33m\u001B[0m\u001B[0m\n\u001B[0;32m     23\u001B[0m     \u001B[1;33m@\u001B[0m\u001B[0mproperty\u001B[0m\u001B[1;33m\u001B[0m\u001B[1;33m\u001B[0m\u001B[0m\n",
      "\u001B[1;32mD:\\programfiles\\anaconda3\\lib\\site-packages\\pandas\\io\\excel\\_base.py\u001B[0m in \u001B[0;36m__init__\u001B[1;34m(self, filepath_or_buffer)\u001B[0m\n\u001B[0;32m    351\u001B[0m             \u001B[0mself\u001B[0m\u001B[1;33m.\u001B[0m\u001B[0mbook\u001B[0m \u001B[1;33m=\u001B[0m \u001B[0mself\u001B[0m\u001B[1;33m.\u001B[0m\u001B[0mload_workbook\u001B[0m\u001B[1;33m(\u001B[0m\u001B[0mfilepath_or_buffer\u001B[0m\u001B[1;33m)\u001B[0m\u001B[1;33m\u001B[0m\u001B[1;33m\u001B[0m\u001B[0m\n\u001B[0;32m    352\u001B[0m         \u001B[1;32melif\u001B[0m \u001B[0misinstance\u001B[0m\u001B[1;33m(\u001B[0m\u001B[0mfilepath_or_buffer\u001B[0m\u001B[1;33m,\u001B[0m \u001B[0mstr\u001B[0m\u001B[1;33m)\u001B[0m\u001B[1;33m:\u001B[0m\u001B[1;33m\u001B[0m\u001B[1;33m\u001B[0m\u001B[0m\n\u001B[1;32m--> 353\u001B[1;33m             \u001B[0mself\u001B[0m\u001B[1;33m.\u001B[0m\u001B[0mbook\u001B[0m \u001B[1;33m=\u001B[0m \u001B[0mself\u001B[0m\u001B[1;33m.\u001B[0m\u001B[0mload_workbook\u001B[0m\u001B[1;33m(\u001B[0m\u001B[0mfilepath_or_buffer\u001B[0m\u001B[1;33m)\u001B[0m\u001B[1;33m\u001B[0m\u001B[1;33m\u001B[0m\u001B[0m\n\u001B[0m\u001B[0;32m    354\u001B[0m         \u001B[1;32melif\u001B[0m \u001B[0misinstance\u001B[0m\u001B[1;33m(\u001B[0m\u001B[0mfilepath_or_buffer\u001B[0m\u001B[1;33m,\u001B[0m \u001B[0mbytes\u001B[0m\u001B[1;33m)\u001B[0m\u001B[1;33m:\u001B[0m\u001B[1;33m\u001B[0m\u001B[1;33m\u001B[0m\u001B[0m\n\u001B[0;32m    355\u001B[0m             \u001B[0mself\u001B[0m\u001B[1;33m.\u001B[0m\u001B[0mbook\u001B[0m \u001B[1;33m=\u001B[0m \u001B[0mself\u001B[0m\u001B[1;33m.\u001B[0m\u001B[0mload_workbook\u001B[0m\u001B[1;33m(\u001B[0m\u001B[0mBytesIO\u001B[0m\u001B[1;33m(\u001B[0m\u001B[0mfilepath_or_buffer\u001B[0m\u001B[1;33m)\u001B[0m\u001B[1;33m)\u001B[0m\u001B[1;33m\u001B[0m\u001B[1;33m\u001B[0m\u001B[0m\n",
      "\u001B[1;32mD:\\programfiles\\anaconda3\\lib\\site-packages\\pandas\\io\\excel\\_xlrd.py\u001B[0m in \u001B[0;36mload_workbook\u001B[1;34m(self, filepath_or_buffer)\u001B[0m\n\u001B[0;32m     34\u001B[0m             \u001B[1;32mreturn\u001B[0m \u001B[0mopen_workbook\u001B[0m\u001B[1;33m(\u001B[0m\u001B[0mfile_contents\u001B[0m\u001B[1;33m=\u001B[0m\u001B[0mdata\u001B[0m\u001B[1;33m)\u001B[0m\u001B[1;33m\u001B[0m\u001B[1;33m\u001B[0m\u001B[0m\n\u001B[0;32m     35\u001B[0m         \u001B[1;32melse\u001B[0m\u001B[1;33m:\u001B[0m\u001B[1;33m\u001B[0m\u001B[1;33m\u001B[0m\u001B[0m\n\u001B[1;32m---> 36\u001B[1;33m             \u001B[1;32mreturn\u001B[0m \u001B[0mopen_workbook\u001B[0m\u001B[1;33m(\u001B[0m\u001B[0mfilepath_or_buffer\u001B[0m\u001B[1;33m)\u001B[0m\u001B[1;33m\u001B[0m\u001B[1;33m\u001B[0m\u001B[0m\n\u001B[0m\u001B[0;32m     37\u001B[0m \u001B[1;33m\u001B[0m\u001B[0m\n\u001B[0;32m     38\u001B[0m     \u001B[1;33m@\u001B[0m\u001B[0mproperty\u001B[0m\u001B[1;33m\u001B[0m\u001B[1;33m\u001B[0m\u001B[0m\n",
      "\u001B[1;32mD:\\programfiles\\anaconda3\\lib\\site-packages\\xlrd\\__init__.py\u001B[0m in \u001B[0;36mopen_workbook\u001B[1;34m(filename, logfile, verbosity, use_mmap, file_contents, encoding_override, formatting_info, on_demand, ragged_rows)\u001B[0m\n\u001B[0;32m    155\u001B[0m         \u001B[0mformatting_info\u001B[0m\u001B[1;33m=\u001B[0m\u001B[0mformatting_info\u001B[0m\u001B[1;33m,\u001B[0m\u001B[1;33m\u001B[0m\u001B[1;33m\u001B[0m\u001B[0m\n\u001B[0;32m    156\u001B[0m         \u001B[0mon_demand\u001B[0m\u001B[1;33m=\u001B[0m\u001B[0mon_demand\u001B[0m\u001B[1;33m,\u001B[0m\u001B[1;33m\u001B[0m\u001B[1;33m\u001B[0m\u001B[0m\n\u001B[1;32m--> 157\u001B[1;33m         \u001B[0mragged_rows\u001B[0m\u001B[1;33m=\u001B[0m\u001B[0mragged_rows\u001B[0m\u001B[1;33m,\u001B[0m\u001B[1;33m\u001B[0m\u001B[1;33m\u001B[0m\u001B[0m\n\u001B[0m\u001B[0;32m    158\u001B[0m     )\n\u001B[0;32m    159\u001B[0m     \u001B[1;32mreturn\u001B[0m \u001B[0mbk\u001B[0m\u001B[1;33m\u001B[0m\u001B[1;33m\u001B[0m\u001B[0m\n",
      "\u001B[1;32mD:\\programfiles\\anaconda3\\lib\\site-packages\\xlrd\\book.py\u001B[0m in \u001B[0;36mopen_workbook_xls\u001B[1;34m(filename, logfile, verbosity, use_mmap, file_contents, encoding_override, formatting_info, on_demand, ragged_rows)\u001B[0m\n\u001B[0;32m     90\u001B[0m         \u001B[0mt1\u001B[0m \u001B[1;33m=\u001B[0m \u001B[0mperf_counter\u001B[0m\u001B[1;33m(\u001B[0m\u001B[1;33m)\u001B[0m\u001B[1;33m\u001B[0m\u001B[1;33m\u001B[0m\u001B[0m\n\u001B[0;32m     91\u001B[0m         \u001B[0mbk\u001B[0m\u001B[1;33m.\u001B[0m\u001B[0mload_time_stage_1\u001B[0m \u001B[1;33m=\u001B[0m \u001B[0mt1\u001B[0m \u001B[1;33m-\u001B[0m \u001B[0mt0\u001B[0m\u001B[1;33m\u001B[0m\u001B[1;33m\u001B[0m\u001B[0m\n\u001B[1;32m---> 92\u001B[1;33m         \u001B[0mbiff_version\u001B[0m \u001B[1;33m=\u001B[0m \u001B[0mbk\u001B[0m\u001B[1;33m.\u001B[0m\u001B[0mgetbof\u001B[0m\u001B[1;33m(\u001B[0m\u001B[0mXL_WORKBOOK_GLOBALS\u001B[0m\u001B[1;33m)\u001B[0m\u001B[1;33m\u001B[0m\u001B[1;33m\u001B[0m\u001B[0m\n\u001B[0m\u001B[0;32m     93\u001B[0m         \u001B[1;32mif\u001B[0m \u001B[1;32mnot\u001B[0m \u001B[0mbiff_version\u001B[0m\u001B[1;33m:\u001B[0m\u001B[1;33m\u001B[0m\u001B[1;33m\u001B[0m\u001B[0m\n\u001B[0;32m     94\u001B[0m             \u001B[1;32mraise\u001B[0m \u001B[0mXLRDError\u001B[0m\u001B[1;33m(\u001B[0m\u001B[1;34m\"Can't determine file's BIFF version\"\u001B[0m\u001B[1;33m)\u001B[0m\u001B[1;33m\u001B[0m\u001B[1;33m\u001B[0m\u001B[0m\n",
      "\u001B[1;32mD:\\programfiles\\anaconda3\\lib\\site-packages\\xlrd\\book.py\u001B[0m in \u001B[0;36mgetbof\u001B[1;34m(self, rqd_stream)\u001B[0m\n\u001B[0;32m   1276\u001B[0m             \u001B[0mbof_error\u001B[0m\u001B[1;33m(\u001B[0m\u001B[1;34m'Expected BOF record; met end of file'\u001B[0m\u001B[1;33m)\u001B[0m\u001B[1;33m\u001B[0m\u001B[1;33m\u001B[0m\u001B[0m\n\u001B[0;32m   1277\u001B[0m         \u001B[1;32mif\u001B[0m \u001B[0mopcode\u001B[0m \u001B[1;32mnot\u001B[0m \u001B[1;32min\u001B[0m \u001B[0mbofcodes\u001B[0m\u001B[1;33m:\u001B[0m\u001B[1;33m\u001B[0m\u001B[1;33m\u001B[0m\u001B[0m\n\u001B[1;32m-> 1278\u001B[1;33m             \u001B[0mbof_error\u001B[0m\u001B[1;33m(\u001B[0m\u001B[1;34m'Expected BOF record; found %r'\u001B[0m \u001B[1;33m%\u001B[0m \u001B[0mself\u001B[0m\u001B[1;33m.\u001B[0m\u001B[0mmem\u001B[0m\u001B[1;33m[\u001B[0m\u001B[0msavpos\u001B[0m\u001B[1;33m:\u001B[0m\u001B[0msavpos\u001B[0m\u001B[1;33m+\u001B[0m\u001B[1;36m8\u001B[0m\u001B[1;33m]\u001B[0m\u001B[1;33m)\u001B[0m\u001B[1;33m\u001B[0m\u001B[1;33m\u001B[0m\u001B[0m\n\u001B[0m\u001B[0;32m   1279\u001B[0m         \u001B[0mlength\u001B[0m \u001B[1;33m=\u001B[0m \u001B[0mself\u001B[0m\u001B[1;33m.\u001B[0m\u001B[0mget2bytes\u001B[0m\u001B[1;33m(\u001B[0m\u001B[1;33m)\u001B[0m\u001B[1;33m\u001B[0m\u001B[1;33m\u001B[0m\u001B[0m\n\u001B[0;32m   1280\u001B[0m         \u001B[1;32mif\u001B[0m \u001B[0mlength\u001B[0m \u001B[1;33m==\u001B[0m \u001B[0mMY_EOF\u001B[0m\u001B[1;33m:\u001B[0m\u001B[1;33m\u001B[0m\u001B[1;33m\u001B[0m\u001B[0m\n",
      "\u001B[1;32mD:\\programfiles\\anaconda3\\lib\\site-packages\\xlrd\\book.py\u001B[0m in \u001B[0;36mbof_error\u001B[1;34m(msg)\u001B[0m\n\u001B[0;32m   1270\u001B[0m \u001B[1;33m\u001B[0m\u001B[0m\n\u001B[0;32m   1271\u001B[0m         \u001B[1;32mdef\u001B[0m \u001B[0mbof_error\u001B[0m\u001B[1;33m(\u001B[0m\u001B[0mmsg\u001B[0m\u001B[1;33m)\u001B[0m\u001B[1;33m:\u001B[0m\u001B[1;33m\u001B[0m\u001B[1;33m\u001B[0m\u001B[0m\n\u001B[1;32m-> 1272\u001B[1;33m             \u001B[1;32mraise\u001B[0m \u001B[0mXLRDError\u001B[0m\u001B[1;33m(\u001B[0m\u001B[1;34m'Unsupported format, or corrupt file: '\u001B[0m \u001B[1;33m+\u001B[0m \u001B[0mmsg\u001B[0m\u001B[1;33m)\u001B[0m\u001B[1;33m\u001B[0m\u001B[1;33m\u001B[0m\u001B[0m\n\u001B[0m\u001B[0;32m   1273\u001B[0m         \u001B[0msavpos\u001B[0m \u001B[1;33m=\u001B[0m \u001B[0mself\u001B[0m\u001B[1;33m.\u001B[0m\u001B[0m_position\u001B[0m\u001B[1;33m\u001B[0m\u001B[1;33m\u001B[0m\u001B[0m\n\u001B[0;32m   1274\u001B[0m         \u001B[0mopcode\u001B[0m \u001B[1;33m=\u001B[0m \u001B[0mself\u001B[0m\u001B[1;33m.\u001B[0m\u001B[0mget2bytes\u001B[0m\u001B[1;33m(\u001B[0m\u001B[1;33m)\u001B[0m\u001B[1;33m\u001B[0m\u001B[1;33m\u001B[0m\u001B[0m\n",
      "\u001B[1;31mXLRDError\u001B[0m: Unsupported format, or corrupt file: Expected BOF record; found b'=\"\\xb1\\xd2\\xd6\\xd6\"\\t'"
     ]
    }
   ],
   "source": [
    "fpath = f'D:/data/A_trading_data/1500+/A_result/20200414/1203hao/holding.xls'\n",
    "df_capital, df_holding = process_raw_data_cash(fpath)\n",
    "df_holding"
   ],
   "metadata": {
    "collapsed": false,
    "pycharm": {
     "name": "#%%\n"
    }
   }
  },
  {
   "cell_type": "code",
   "execution_count": 79,
   "outputs": [
    {
     "name": "stdout",
     "output_type": "stream",
     "text": [
      "币种\t余额\t可用\t可取\t参考市值\t资产\t盈亏\t\r\n",
      "\n",
      "人民币\t3173692.72\t3871328.10\t3173692.72\t50861237.75\t54732565.85\t-88361.90\t\r\n",
      "\n",
      "\r\n",
      "\n",
      "证券名称\t证券数量\t可卖数量\t价格币种\t成本价\t浮动盈亏\t盈亏比例(%)\t折算汇率\t最新市值\t当前价\t今买数量\t今卖数量\t证券代码\t股东代码\t成本金额\t备注\t\r\n",
      "\n",
      "华宝添益\t260519\t260519\t人民币\t99.791\t57788.57\t0.22\t\t26055286.74\t100.013\t0\t0\t511990\tB882751428\t25997498.17\t\t\r\n",
      "\n",
      "人福医药\t38100\t300\t人民币\t19.539\t70159.84\t9.42\t\t814578.00\t21.38\t37800\t37800\t600079\tB882751428\t744418.16\t\t\r\n",
      "\n",
      "诺德股份\t62\t62\t人民币\t-436.369\t27377.26\t--\t\t322.40\t5.20\t0\t114500\t600110\tB882751428\t-27054.86\t\t\r\n",
      "\n",
      "商赢环球\t0\t0\t人民币\t0.000\t121087.88\t--\t\t0.00\t13.320\t0\t1200\t600146\tB882751428\t-121087.88\t\t\r\n",
      "\n",
      "长春经开\t11100\t11100\t人民币\t7.541\t1428.50\t1.71\t\t85137.00\t7.67\t0\t0\t600215\tB882751428\t83708.50\t\t\r\n",
      "\n",
      "沧州大化\t0\t0\t人民币\t0.000\t-5170.25\t--\t\t0.00\t8.330\t0\t7600\t600230\tB882751428\t5170.25\t\t\r\n",
      "\n",
      "天通股份\t40\t40\t人民币\t2468.794\t-98450.17\t-99.69\t\t301.60\t7.54\t0\t0\t600330\tB882751428\t98751.77\t\t\r\n",
      "\n",
      "健康元\t20900\t0\t人民币\t12.370\t11914.14\t4.61\t\t270446.00\t12.94\t20900\t0\t600380\tB882751428\t258531.86\t\t\r\n",
      "\n",
      "扬农化工\t2000\t0\t人民币\t74.733\t2694.11\t1.80\t\t152160.00\t76.08\t2000\t0\t600486\tB882751428\t149465.89\t\t\r\n",
      "\n",
      "龙元建设\t67900\t67900\t人民币\t7.723\t26277.14\t5.01\t\t550669.00\t8.11\t0\t0\t600491\tB882751428\t524391.86\t\t\r\n",
      "\n",
      "晋西车轴\t84\t84\t人民币\t-1148.622\t96846.32\t--\t\t362.04\t4.31\t0\t0\t600495\tB882751428\t-96484.28\t\t\r\n",
      "\n",
      "烽火通信\t50\t50\t人民币\t-306.214\t16950.18\t--\t\t1639.50\t32.79\t0\t22550\t600498\tB882751428\t-15310.68\t\t\r\n",
      "\n",
      "航天晨光\t60\t60\t人民币\t-173.788\t10997.28\t--\t\t570.00\t9.50\t0\t49100\t600501\tB882751428\t-10427.28\t\t\r\n",
      "\n",
      "凯盛科技\t36900\t36900\t人民币\t5.365\t4996.47\t2.52\t\t202950.00\t5.50\t0\t0\t600552\tB882751428\t197953.53\t\t\r\n",
      "\n",
      "信雅达\t0\t0\t人民币\t0.000\t-18493.79\t--\t\t0.00\t9.290\t0\t10100\t600571\tB882751428\t18493.79\t\t\r\n",
      "\n",
      "太极实业\t2\t2\t人民币\t-17876.915\t35775.23\t--\t\t21.40\t10.70\t0\t0\t600667\tB882751428\t-35753.83\t\t\r\n",
      "\n",
      "祁连山\t28300\t0\t人民币\t13.417\t16223.47\t4.27\t\t395917.00\t13.99\t28300\t0\t600720\tB882751428\t379693.53\t\t\r\n",
      "\n",
      "妙可蓝多\t600\t0\t人民币\t24.465\t80.76\t0.55\t\t14760.00\t24.60\t600\t0\t600882\tB882751428\t14679.24\t\t\r\n",
      "\n",
      "新疆众和\t38700\t38700\t人民币\t4.346\t-613.99\t-0.37\t\t167571.00\t4.33\t0\t0\t600888\tB882751428\t168184.99\t\t\r\n",
      "\n",
      "晋亿实业\t76\t76\t人民币\t-235.736\t18374.25\t--\t\t458.28\t6.03\t0\t0\t601002\tB882751428\t-17915.97\t\t\r\n",
      "\n",
      "广州酒家\t1600\t1600\t人民币\t28.639\t688.92\t1.51\t\t46512.00\t29.07\t0\t0\t603043\tB882751428\t45823.08\t\t\r\n",
      "\n",
      "海天味业\t2800\t2800\t人民币\t124.710\t10613.17\t3.04\t\t359800.00\t128.50\t0\t0\t603288\tB882751428\t349186.83\t\t\r\n",
      "\n",
      "吉比特\t59\t59\t人民币\t869.725\t-29029.45\t-56.57\t\t22284.30\t377.70\t0\t0\t603444\tB882751428\t51313.75\t\t\r\n",
      "\n",
      "绝味食品\t3000\t3000\t人民币\t51.209\t-2246.80\t-1.46\t\t151380.00\t50.46\t0\t0\t603517\tB882751428\t153626.80\t\t\r\n",
      "\n",
      "美诺华\t1500\t1500\t人民币\t36.148\t888.08\t1.64\t\t55110.00\t36.74\t0\t0\t603538\tB882751428\t54221.92\t\t\r\n",
      "\n",
      "海兴电力\t600\t600\t人民币\t16.520\t-1157.90\t-11.68\t\t8754.00\t14.59\t0\t0\t603556\tB882751428\t9911.90\t\t\r\n",
      "\n",
      "七一二\t400\t400\t人民币\t77.040\t-19972.13\t-64.81\t\t10844.00\t27.11\t0\t0\t603712\tB882751428\t30816.13\t\t\r\n",
      "\n",
      "朗迪集团\t0\t0\t人民币\t0.000\t8503.36\t--\t\t0.00\t13.500\t0\t25800\t603726\tB882751428\t-8503.36\t\t\r\n",
      "\n",
      "三棵树\t2100\t600\t人民币\t99.652\t-2103.51\t-1.00\t\t207165.00\t98.65\t1500\t1500\t603737\tB882751428\t209268.51\t\t\r\n",
      "\n",
      "三孚股份\t2000\t2000\t人民币\t22.140\t920.31\t2.08\t\t45200.00\t22.60\t0\t0\t603938\tB882751428\t44279.69\t\t\r\n",
      "\n",
      "益丰药房\t4900\t4900\t人民币\t95.552\t12289.07\t2.63\t\t480494.00\t98.06\t0\t0\t603939\tB882751428\t468204.93\t\t\r\n",
      "\n",
      "神州数码\t32\t32\t人民币\t-59.461\t2703.39\t--\t\t800.64\t25.02\t0\t5568\t000034\t0899198036\t-1902.75\t\t\r\n",
      "\n",
      "中联重科\t116900\t116900\t人民币\t6.468\t8422.81\t1.11\t\t764526.00\t6.54\t0\t0\t000157\t0899198036\t756103.19\t\t\r\n",
      "\n",
      "藏格控股\t1600\t1600\t人民币\t9.962\t-6754.67\t-42.38\t\t9184.00\t5.74\t0\t0\t000408\t0899198036\t15938.67\t\t\r\n",
      "\n",
      "徐工机械\t129600\t129600\t人民币\t5.652\t30790.26\t4.21\t\t763344.00\t5.89\t0\t0\t000425\t0899198036\t732553.74\t\t\r\n",
      "\n",
      "广州浪奇\t0\t0\t人民币\t0.000\t2375.02\t--\t\t0.00\t7.160\t0\t28000\t000523\t0899198036\t-2375.02\t\t\r\n",
      "\n",
      "格力电器\t13600\t13600\t人民币\t55.408\t13488.32\t1.79\t\t767040.00\t56.40\t0\t0\t000651\t0899198036\t753551.68\t\t\r\n",
      "\n",
      "模塑科技\t7\t7\t人民币\t9074.803\t-63458.87\t-99.90\t\t64.75\t9.25\t0\t0\t000700\t0899198036\t63523.62\t\t\r\n",
      "\n",
      "万年青\t57400\t0\t人民币\t12.558\t7026.87\t0.97\t\t727832.00\t12.68\t57400\t0\t000789\t0899198036\t720805.13\t\t\r\n",
      "\n",
      "凯撒旅业\t0\t0\t人民币\t0.000\t4048.05\t--\t\t0.00\t7.580\t0\t43700\t000796\t0899198036\t-4048.05\t\t\r\n",
      "\n",
      "一汽轿车\t18700\t18700\t人民币\t10.240\t3739.71\t1.95\t\t195228.00\t10.44\t0\t0\t000800\t0899198036\t191488.29\t\t\r\n",
      "\n",
      "冰轮环境\t68\t68\t人民币\t-28.170\t2350.75\t--\t\t435.20\t6.40\t0\t0\t000811\t0899198036\t-1915.55\t\t\r\n",
      "\n",
      "欢瑞世纪\t26200\t26200\t人民币\t4.261\t-3157.33\t-2.84\t\t108468.00\t4.14\t0\t0\t000892\t0899198036\t111625.33\t\t\r\n",
      "\n",
      "航天科技\t36\t36\t人民币\t-193.563\t7338.00\t--\t\t369.72\t10.27\t0\t0\t000901\t0899198036\t-6968.28\t\t\r\n",
      "\n",
      "大亚圣象\t8\t8\t人民币\t-1819.420\t14642.24\t--\t\t86.88\t10.86\t0\t0\t000910\t0899198036\t-14555.36\t\t\r\n",
      "\n",
      "佳电股份\t12900\t12900\t人民币\t7.311\t6306.15\t6.69\t\t100620.00\t7.80\t0\t0\t000922\t0899198036\t94313.85\t\t\r\n",
      "\n",
      "华西股份\t52900\t0\t人民币\t10.301\t1026.04\t0.19\t\t545928.00\t10.32\t52900\t0\t000936\t0899198036\t544901.96\t\t\r\n",
      "\n",
      "华铁股份\t0\t0\t人民币\t0.000\t23163.12\t--\t\t0.00\t5.140\t0\t3200\t000976\t0899198036\t-23163.12\t\t\r\n",
      "\n",
      "浪潮信息\t20600\t0\t人民币\t35.964\t6923.86\t0.94\t\t747780.00\t36.30\t20600\t0\t000977\t0899198036\t740856.14\t\t\r\n",
      "\n",
      "华工科技\t91\t91\t人民币\t1737.406\t-156206.59\t-98.80\t\t1897.35\t20.85\t0\t0\t000988\t0899198036\t158103.94\t\t\r\n",
      "\n",
      "新大陆\t0\t0\t人民币\t0.000\t2815.46\t--\t\t0.00\t16.920\t0\t100\t000997\t0899198036\t-2815.46\t\t\r\n",
      "\n",
      "中航机电\t50500\t50500\t人民币\t7.867\t4699.56\t1.18\t\t401980.00\t7.96\t0\t0\t002013\t0899198036\t397280.44\t\t\r\n",
      "\n",
      "思源电气\t15\t15\t人民币\t-237.175\t3839.63\t--\t\t282.00\t18.80\t0\t0\t002028\t0899198036\t-3557.63\t\t\r\n",
      "\n",
      "紫光国微\t11900\t11900\t人民币\t61.887\t-9129.27\t-1.24\t\t727328.00\t61.12\t0\t0\t002049\t0899198036\t736457.27\t\t\r\n",
      "\n",
      "沃华医药\t34300\t34300\t人民币\t11.566\t13848.67\t3.49\t\t410571.00\t11.97\t0\t0\t002107\t0899198036\t396722.33\t\t\r\n",
      "\n",
      "威海广泰\t100\t100\t人民币\t20.107\t-560.68\t-27.88\t\t1450.00\t14.50\t0\t0\t002111\t0899198036\t2010.68\t\t\r\n",
      "\n",
      "湘潭电化\t40\t40\t人民币\t-650.081\t26345.63\t--\t\t342.40\t8.56\t0\t0\t002125\t0899198036\t-26003.23\t\t\r\n",
      "\n",
      "中环股份\t1\t1\t人民币\t6807.930\t-6792.66\t-99.77\t\t15.27\t15.27\t0\t0\t002129\t0899198036\t6807.93\t\t\r\n",
      "\n",
      "北斗星通\t26400\t26400\t人民币\t27.854\t25239.99\t3.43\t\t760584.00\t28.81\t0\t0\t002151\t0899198036\t735344.01\t\t\r\n",
      "\n",
      "广电运通\t76000\t20700\t人民币\t9.686\t-30862.76\t-4.19\t\t705280.00\t9.28\t55300\t55300\t002152\t0899198036\t736142.76\t\t\r\n",
      "\n",
      "智光电气\t82\t82\t人民币\t75.170\t-5430.88\t-88.11\t\t733.08\t8.94\t0\t0\t002169\t0899198036\t6163.96\t\t\r\n",
      "\n",
      "华天科技\t71098\t98\t人民币\t10.814\t25993.18\t3.39\t\t794875.64\t11.18\t71000\t0\t002185\t0899198036\t768882.46\t\t\r\n",
      "\n",
      "诺普信\t32900\t0\t人民币\t6.122\t1916.73\t0.95\t\t203322.00\t6.18\t32900\t0\t002215\t0899198036\t201405.27\t\t\r\n",
      "\n",
      "鱼跃医疗\t19200\t0\t人民币\t36.990\t6919.99\t0.97\t\t717120.00\t37.35\t19200\t0\t002223\t0899198036\t710200.01\t\t\r\n",
      "\n",
      "美盈森\t93\t93\t人民币\t-801.482\t74987.00\t--\t\t449.19\t4.83\t0\t0\t002303\t0899198036\t-74537.81\t\t\r\n",
      "\n",
      "仙琚制药\t16200\t16200\t人民币\t15.114\t-385.95\t-0.16\t\t244458.00\t15.09\t0\t0\t002332\t0899198036\t244843.95\t\t\r\n",
      "\n",
      "兴民智通\t1500\t1500\t人民币\t5.762\t192.05\t2.22\t\t8835.00\t5.89\t0\t0\t002355\t0899198036\t8642.95\t\t\r\n",
      "\n",
      "永安药业\t15800\t15800\t人民币\t12.042\t2337.95\t1.23\t\t192602.00\t12.19\t0\t0\t002365\t0899198036\t190264.05\t\t\r\n",
      "\n",
      "航天彩虹\t26400\t26400\t人民币\t11.977\t-188.22\t-0.06\t\t316008.00\t11.97\t0\t0\t002389\t0899198036\t316196.22\t\t\r\n",
      "\n",
      "长青股份\t74\t74\t人民币\t84.858\t-5561.66\t-88.57\t\t717.80\t9.70\t0\t0\t002391\t0899198036\t6279.46\t\t\r\n",
      "\n",
      "垒知集团\t72700\t0\t人民币\t9.581\t10857.73\t1.56\t\t707371.00\t9.73\t72700\t0\t002398\t0899198036\t696513.27\t\t\r\n",
      "\n",
      "嘉欣丝绸\t50\t50\t人民币\t1356.489\t-67550.95\t-99.60\t\t273.50\t5.47\t0\t0\t002404\t0899198036\t67824.45\t\t\r\n",
      "\n",
      "高德红外\t30\t30\t人民币\t67.919\t-874.76\t-42.93\t\t1162.80\t38.76\t0\t15570\t002414\t0899198036\t2037.56\t\t\r\n",
      "\n",
      "兴森科技\t15\t15\t人民币\t6107.675\t-91441.57\t-99.81\t\t173.55\t11.57\t0\t0\t002436\t0899198036\t91615.12\t\t\r\n",
      "\n",
      "沪电股份\t46\t46\t人民币\t2077.684\t-94411.50\t-98.78\t\t1161.96\t25.26\t0\t0\t002463\t0899198036\t95573.46\t\t\r\n",
      "\n",
      "江海股份\t53500\t53500\t人民币\t8.717\t8703.70\t1.87\t\t475080.00\t8.88\t0\t0\t002484\t0899198036\t466376.30\t\t\r\n",
      "\n",
      "金固股份\t44\t44\t人民币\t537.797\t-23387.17\t-98.83\t\t275.88\t6.27\t0\t0\t002488\t0899198036\t23663.05\t\t\r\n",
      "\n",
      "新时达\t18800\t18800\t人民币\t5.261\t-1895.79\t-1.92\t\t97008.00\t5.16\t0\t0\t002527\t0899198036\t98903.79\t\t\r\n",
      "\n",
      "唐人神\t89\t89\t人民币\t26.613\t-1507.90\t-63.66\t\t860.63\t9.67\t0\t0\t002567\t0899198036\t2368.53\t\t\r\n",
      "\n",
      "奥拓电子\t0\t0\t人民币\t0.000\t10.02\t--\t\t0.00\t6.940\t0\t100\t002587\t0899198036\t-10.02\t\t\r\n",
      "\n",
      "中公教育\t1400\t1400\t人民币\t23.447\t368.44\t1.12\t\t33194.00\t23.71\t0\t0\t002607\t0899198036\t32825.56\t\t\r\n",
      "\n",
      "露笑科技\t44\t44\t人民币\t-65.483\t3117.53\t--\t\t236.28\t5.37\t0\t0\t002617\t0899198036\t-2881.25\t\t\r\n",
      "\n",
      "佛慈制药\t18100\t0\t人民币\t9.063\t6094.19\t3.72\t\t170140.00\t9.40\t18100\t0\t002644\t0899198036\t164045.81\t\t\r\n",
      "\n",
      "卫星石化\t48300\t2200\t人民币\t14.934\t-2107.24\t-0.29\t\t719187.00\t14.89\t46100\t0\t002648\t0899198036\t721294.24\t\t\r\n",
      "\n",
      "加加食品\t0\t0\t人民币\t0.000\t7652.17\t--\t\t0.00\t4.110\t0\t95100\t002650\t0899198036\t-7652.17\t\t\r\n",
      "\n",
      "奥马电器\t0\t0\t人民币\t0.000\t-29123.31\t--\t\t0.00\t4.800\t0\t148100\t002668\t0899198036\t29123.31\t\t\r\n",
      "\n",
      "红旗连锁\t7200\t7200\t人民币\t10.526\t-1554.16\t-2.05\t\t74232.00\t10.31\t0\t0\t002697\t0899198036\t75786.16\t\t\r\n",
      "\n",
      "良信电器\t17900\t17900\t人民币\t12.002\t18758.02\t8.73\t\t233595.00\t13.05\t0\t0\t002706\t0899198036\t214836.98\t\t\r\n",
      "\n",
      "龙津药业\t9000\t9000\t人民币\t9.816\t-771.68\t-0.88\t\t87570.00\t9.73\t0\t0\t002750\t0899198036\t88341.68\t\t\r\n",
      "\n",
      "南兴股份\t12500\t12500\t人民币\t23.638\t-27976.09\t-9.47\t\t267500.00\t21.40\t0\t0\t002757\t0899198036\t295476.09\t\t\r\n",
      "\n",
      "恩捷股份\t6700\t0\t人民币\t47.278\t11737.66\t3.71\t\t328501.00\t49.03\t6700\t0\t002812\t0899198036\t316763.34\t\t\r\n",
      "\n",
      "凯莱英\t3900\t3900\t人民币\t190.574\t-5788.61\t-0.78\t\t737451.00\t189.09\t0\t0\t002821\t0899198036\t743239.61\t\t\r\n",
      "\n",
      "英维克\t4100\t4100\t人民币\t37.729\t5294.07\t3.42\t\t159982.00\t39.02\t0\t0\t002837\t0899198036\t154687.93\t\t\r\n",
      "\n",
      "莱美药业\t20\t20\t人民币\t-9.425\t288.10\t--\t\t99.60\t4.98\t0\t0\t300006\t0899198036\t-188.50\t\t\r\n",
      "\n",
      "红日药业\t135700\t0\t人民币\t5.049\t47590.56\t6.95\t\t732780.00\t5.40\t135700\t135700\t300026\t0899198036\t685189.44\t\t\r\n",
      "\n",
      "星辉娱乐\t100\t100\t人民币\t4.151\t-5.08\t-1.23\t\t410.00\t4.10\t0\t0\t300043\t0899198036\t415.08\t\t\r\n",
      "\n",
      "蓝色光标\t0\t0\t人民币\t0.000\t-677.47\t--\t\t0.00\t6.160\t0\t62300\t300058\t0899198036\t677.47\t\t\r\n",
      "\n",
      "旗天科技\t27578\t27578\t人民币\t5.489\t-11555.01\t-7.63\t\t139820.46\t5.07\t0\t0\t300061\t0899198036\t151375.47\t\t\r\n",
      "\n",
      "荃银高科\t91\t91\t人民币\t-605.155\t56228.41\t--\t\t1159.34\t12.74\t0\t0\t300087\t0899198036\t-55069.07\t\t\r\n",
      "\n",
      "长信科技\t76991\t46991\t人民币\t11.477\t-181437.01\t-20.54\t\t702157.92\t9.12\t30000\t30000\t300088\t0899198036\t883594.93\t\t\r\n",
      "\n",
      "国联水产\t6500\t6500\t人民币\t4.451\t-1370.79\t-4.74\t\t27560.00\t4.24\t0\t0\t300094\t0899198036\t28930.79\t\t\r\n",
      "\n",
      "振芯科技\t0\t0\t人民币\t0.000\t17095.12\t--\t\t0.00\t10.580\t0\t32700\t300101\t0899198036\t-17095.12\t\t\r\n",
      "\n",
      "智飞生物\t9800\t9800\t人民币\t76.363\t25259.35\t3.38\t\t773612.00\t78.94\t0\t0\t300122\t0899198036\t748352.65\t\t\r\n",
      "\n",
      "亚光科技\t91\t91\t人民币\t1429.985\t-129134.92\t-99.24\t\t993.72\t10.92\t0\t0\t300123\t0899198036\t130128.64\t\t\r\n",
      "\n",
      "信维通信\t0\t0\t人民币\t0.000\t-41847.28\t--\t\t0.00\t36.400\t0\t18900\t300136\t0899198036\t41847.28\t\t\r\n",
      "\n",
      "沃森生物\t22600\t2600\t人民币\t31.741\t68225.52\t9.51\t\t785576.00\t34.76\t20000\t20000\t300142\t0899198036\t717350.48\t\t\r\n",
      "\n",
      "力源信息\t4\t4\t人民币\t-10294.613\t41207.33\t--\t\t28.88\t7.22\t0\t0\t300184\t0899198036\t-41178.45\t\t\r\n",
      "\n",
      "聚光科技\t2100\t2100\t人民币\t13.205\t157.44\t0.57\t\t27888.00\t13.28\t0\t0\t300203\t0899198036\t27730.56\t\t\r\n",
      "\n",
      "欣旺达\t55200\t0\t人民币\t13.579\t45889.13\t6.12\t\t795432.00\t14.41\t55200\t0\t300207\t0899198036\t749542.87\t\t\r\n",
      "\n",
      "科大智能\t0\t0\t人民币\t0.000\t-9568.10\t--\t\t0.00\t7.900\t0\t29700\t300222\t0899198036\t9568.10\t\t\r\n",
      "\n",
      "上海新阳\t80\t80\t人民币\t819.305\t-61350.01\t-93.60\t\t4194.40\t52.43\t0\t0\t300236\t0899198036\t65544.41\t\t\r\n",
      "\n",
      "迪安诊断\t0\t0\t人民币\t0.000\t-116.65\t--\t\t0.00\t25.020\t0\t600\t300244\t0899198036\t116.65\t\t\r\n",
      "\n",
      "三丰智能\t80\t80\t人民币\t-142.433\t11996.23\t--\t\t601.60\t7.52\t0\t0\t300276\t0899198036\t-11394.63\t\t\r\n",
      "\n",
      "聚飞光电\t73\t73\t人民币\t2360.393\t-171935.68\t-99.78\t\t373.03\t5.11\t0\t0\t300303\t0899198036\t172308.71\t\t\r\n",
      "\n",
      "任子行\t74\t74\t人民币\t584.771\t-42735.80\t-98.76\t\t537.24\t7.26\t0\t0\t300311\t0899198036\t43273.04\t\t\r\n",
      "\n",
      "天银机电\t0\t0\t人民币\t0.000\t-18134.22\t--\t\t0.00\t16.630\t0\t43900\t300342\t0899198036\t18134.22\t\t\r\n",
      "\n",
      "南大光电\t7\t7\t人民币\t-11985.093\t84060.43\t--\t\t164.78\t23.54\t0\t0\t300346\t0899198036\t-83895.65\t\t\r\n",
      "\n",
      "飞凯材料\t0\t0\t人民币\t0.000\t1825.05\t--\t\t0.00\t17.600\t0\t6800\t300398\t0899198036\t-1825.05\t\t\r\n",
      "\n",
      "润欣科技\t0\t0\t人民币\t0.000\t-28585.02\t--\t\t0.00\t9.080\t0\t45600\t300493\t0899198036\t28585.02\t\t\r\n",
      "\n",
      "中科创达\t600\t0\t人民币\t53.527\t883.58\t2.75\t\t33000.00\t55.00\t600\t0\t300496\t0899198036\t32116.42\t\t\r\n",
      "\n",
      "富祥药业\t24700\t13700\t人民币\t29.054\t38179.52\t5.32\t\t755820.00\t30.60\t11000\t700\t300497\t0899198036\t717640.48\t\t\r\n",
      "\n",
      "天邑股份\t0\t0\t人民币\t0.000\t-3166.01\t--\t\t0.00\t24.330\t0\t11700\t300504\t0899198036\t3166.01\t\t\r\n",
      "\n",
      "贝达药业\t8200\t8200\t人民币\t87.692\t11054.20\t1.54\t\t730128.00\t89.04\t0\t0\t300558\t0899198036\t719073.80\t\t\r\n",
      "\n",
      "会畅通讯\t0\t0\t人民币\t0.000\t778.69\t--\t\t0.00\t42.470\t0\t4100\t300578\t0899198036\t-778.69\t\t\r\n",
      "\n",
      "富瀚微\t1800\t1800\t人民币\t153.854\t2783.61\t1.01\t\t279720.00\t155.40\t0\t0\t300613\t0899198036\t276936.39\t\t\r\n",
      "\n",
      "万兴科技\t300\t300\t人民币\t79.913\t500.21\t2.09\t\t24474.00\t81.58\t0\t0\t300624\t0899198036\t23973.79\t\t\r\n",
      "\n",
      "金陵体育\t0\t0\t人民币\t0.000\t-3870.32\t--\t\t0.00\t25.920\t0\t5800\t300651\t0899198036\t3870.32\t\t\r\n",
      "\n",
      "沪宁股份\t2100\t2100\t人民币\t39.390\t3465.45\t4.19\t\t86184.00\t41.04\t0\t0\t300669\t0899198036\t82718.55\t\t\r\n",
      "\n",
      "艾德生物\t2000\t2000\t人民币\t77.084\t5231.17\t3.39\t\t159400.00\t79.70\t0\t0\t300685\t0899198036\t154168.83\t\t\r\n",
      "\n",
      "德方纳米\t2900\t2900\t人民币\t125.282\t19598.36\t5.40\t\t382916.00\t132.04\t0\t0\t300769\t0899198036\t363317.64\t\t\r\n",
      "\n"
     ]
    }
   ],
   "source": [
    "f = open(fpath, 'rb')\n",
    "lines = f.readlines()\n",
    "for line in lines:\n",
    "    line = line.decode('gbk').replace('=', '').replace('\"','')\n",
    "\n",
    "    print(line)\n"
   ],
   "metadata": {
    "collapsed": false,
    "pycharm": {
     "name": "#%%\n"
    }
   }
  },
  {
   "cell_type": "code",
   "execution_count": 70,
   "outputs": [
    {
     "data": {
      "text/plain": "   Unnamed: 0   币种\\t        余额\\t       可用\\t        可取\\t       参考市值\\t  \\\n0         NaN  人民币\\t  3173692.72  3871328.1  3173692.72  50861237.75   \n\n          资产\\t     盈亏\\t  \n0  54732565.85 -88361.9  ",
      "text/html": "<div>\n<style scoped>\n    .dataframe tbody tr th:only-of-type {\n        vertical-align: middle;\n    }\n\n    .dataframe tbody tr th {\n        vertical-align: top;\n    }\n\n    .dataframe thead th {\n        text-align: right;\n    }\n</style>\n<table border=\"1\" class=\"dataframe\">\n  <thead>\n    <tr style=\"text-align: right;\">\n      <th></th>\n      <th>Unnamed: 0</th>\n      <th>币种\\t</th>\n      <th>余额\\t</th>\n      <th>可用\\t</th>\n      <th>可取\\t</th>\n      <th>参考市值\\t</th>\n      <th>资产\\t</th>\n      <th>盈亏\\t</th>\n    </tr>\n  </thead>\n  <tbody>\n    <tr>\n      <th>0</th>\n      <td>NaN</td>\n      <td>人民币\\t</td>\n      <td>3173692.72</td>\n      <td>3871328.1</td>\n      <td>3173692.72</td>\n      <td>50861237.75</td>\n      <td>54732565.85</td>\n      <td>-88361.9</td>\n    </tr>\n  </tbody>\n</table>\n</div>"
     },
     "execution_count": 70,
     "metadata": {},
     "output_type": "execute_result"
    }
   ],
   "source": [
    "import pandas as pd\n",
    "\n",
    "a = pd.read_csv(fpath,nrows=1,sep='=',encoding='gbk')\n",
    "a"
   ],
   "metadata": {
    "collapsed": false,
    "pycharm": {
     "name": "#%%\n"
    }
   }
  },
  {
   "cell_type": "code",
   "execution_count": 73,
   "outputs": [
    {
     "name": "stderr",
     "output_type": "stream",
     "text": [
      "D:\\programfiles\\anaconda3\\lib\\site-packages\\ipykernel_launcher.py:1: ParserWarning: Falling back to the 'python' engine because the 'c' engine does not support regex separators (separators > 1 char and different from '\\s+' are interpreted as regex); you can avoid this warning by specifying engine='python'.\n",
      "  \"\"\"Entry point for launching an IPython kernel.\n"
     ]
    },
    {
     "data": {
      "text/plain": "                     =\"证券名称\"  \\\n0    =\"华宝添益\"\\t260519\\t260519   \n1        =\"人福医药\"\\t38100\\t300   \n2            =\"诺德股份\"\\t62\\t62   \n3              =\"商赢环球\"\\t0\\t0   \n4      =\"长春经开\"\\t11100\\t11100   \n..                       ...   \n125        =\"万兴科技\"\\t300\\t300   \n126            =\"金陵体育\"\\t0\\t0   \n127      =\"沪宁股份\"\\t2100\\t2100   \n128      =\"艾德生物\"\\t2000\\t2000   \n129      =\"德方纳米\"\\t2900\\t2900   \n\n                                                \"证券数量\"    \"可卖数量\"  \\\n0    \"人民币\"\\t99.791\\t57788.57\\t0.22\\t\\t26055286.74\\t...  \"511990\"   \n1    \"人民币\"\\t19.539\\t70159.84\\t9.42\\t\\t814578.00\\t21...  \"600079\"   \n2    \"人民币\"\\t-436.369\\t27377.26\\t--\\t\\t322.40\\t5.20\\...  \"600110\"   \n3    \"人民币\"\\t0.000\\t121087.88\\t--\\t\\t0.00\\t13.320\\t0...  \"600146\"   \n4    \"人民币\"\\t7.541\\t1428.50\\t1.71\\t\\t85137.00\\t7.67\\...  \"600215\"   \n..                                                 ...       ...   \n125  \"人民币\"\\t79.913\\t500.21\\t2.09\\t\\t24474.00\\t81.58...  \"300624\"   \n126  \"人民币\"\\t0.000\\t-3870.32\\t--\\t\\t0.00\\t25.920\\t0\\...  \"300651\"   \n127  \"人民币\"\\t39.390\\t3465.45\\t4.19\\t\\t86184.00\\t41.0...  \"300669\"   \n128  \"人民币\"\\t77.084\\t5231.17\\t3.39\\t\\t159400.00\\t79....  \"300685\"   \n129  \"人民币\"\\t125.282\\t19598.36\\t5.40\\t\\t382916.00\\t1...  \"300769\"   \n\n           \"价格币种\"          \"成本价\"  \"浮动盈亏\"  \"盈亏比例(%)\"  \"折算汇率\"  \"最新市值\"  \"当前价\"  \\\n0    \"B882751428\"  \"25997498.17\"     NaN        NaN     NaN     NaN    NaN   \n1    \"B882751428\"    \"744418.16\"     NaN        NaN     NaN     NaN    NaN   \n2    \"B882751428\"    \"-27054.86\"     NaN        NaN     NaN     NaN    NaN   \n3    \"B882751428\"   \"-121087.88\"     NaN        NaN     NaN     NaN    NaN   \n4    \"B882751428\"     \"83708.50\"     NaN        NaN     NaN     NaN    NaN   \n..            ...            ...     ...        ...     ...     ...    ...   \n125  \"0899198036\"     \"23973.79\"     NaN        NaN     NaN     NaN    NaN   \n126  \"0899198036\"      \"3870.32\"     NaN        NaN     NaN     NaN    NaN   \n127  \"0899198036\"     \"82718.55\"     NaN        NaN     NaN     NaN    NaN   \n128  \"0899198036\"    \"154168.83\"     NaN        NaN     NaN     NaN    NaN   \n129  \"0899198036\"    \"363317.64\"     NaN        NaN     NaN     NaN    NaN   \n\n     \"今买数量\"  \"今卖数量\"  \"证券代码\"  \"股东代码\"  \"成本金额\"  \"备注\"  \n0       NaN     NaN     NaN     NaN     NaN   NaN  \n1       NaN     NaN     NaN     NaN     NaN   NaN  \n2       NaN     NaN     NaN     NaN     NaN   NaN  \n3       NaN     NaN     NaN     NaN     NaN   NaN  \n4       NaN     NaN     NaN     NaN     NaN   NaN  \n..      ...     ...     ...     ...     ...   ...  \n125     NaN     NaN     NaN     NaN     NaN   NaN  \n126     NaN     NaN     NaN     NaN     NaN   NaN  \n127     NaN     NaN     NaN     NaN     NaN   NaN  \n128     NaN     NaN     NaN     NaN     NaN   NaN  \n129     NaN     NaN     NaN     NaN     NaN   NaN  \n\n[130 rows x 16 columns]",
      "text/html": "<div>\n<style scoped>\n    .dataframe tbody tr th:only-of-type {\n        vertical-align: middle;\n    }\n\n    .dataframe tbody tr th {\n        vertical-align: top;\n    }\n\n    .dataframe thead th {\n        text-align: right;\n    }\n</style>\n<table border=\"1\" class=\"dataframe\">\n  <thead>\n    <tr style=\"text-align: right;\">\n      <th></th>\n      <th>=\"证券名称\"</th>\n      <th>\"证券数量\"</th>\n      <th>\"可卖数量\"</th>\n      <th>\"价格币种\"</th>\n      <th>\"成本价\"</th>\n      <th>\"浮动盈亏\"</th>\n      <th>\"盈亏比例(%)\"</th>\n      <th>\"折算汇率\"</th>\n      <th>\"最新市值\"</th>\n      <th>\"当前价\"</th>\n      <th>\"今买数量\"</th>\n      <th>\"今卖数量\"</th>\n      <th>\"证券代码\"</th>\n      <th>\"股东代码\"</th>\n      <th>\"成本金额\"</th>\n      <th>\"备注\"</th>\n    </tr>\n  </thead>\n  <tbody>\n    <tr>\n      <th>0</th>\n      <td>=\"华宝添益\"\\t260519\\t260519</td>\n      <td>\"人民币\"\\t99.791\\t57788.57\\t0.22\\t\\t26055286.74\\t...</td>\n      <td>\"511990\"</td>\n      <td>\"B882751428\"</td>\n      <td>\"25997498.17\"</td>\n      <td>NaN</td>\n      <td>NaN</td>\n      <td>NaN</td>\n      <td>NaN</td>\n      <td>NaN</td>\n      <td>NaN</td>\n      <td>NaN</td>\n      <td>NaN</td>\n      <td>NaN</td>\n      <td>NaN</td>\n      <td>NaN</td>\n    </tr>\n    <tr>\n      <th>1</th>\n      <td>=\"人福医药\"\\t38100\\t300</td>\n      <td>\"人民币\"\\t19.539\\t70159.84\\t9.42\\t\\t814578.00\\t21...</td>\n      <td>\"600079\"</td>\n      <td>\"B882751428\"</td>\n      <td>\"744418.16\"</td>\n      <td>NaN</td>\n      <td>NaN</td>\n      <td>NaN</td>\n      <td>NaN</td>\n      <td>NaN</td>\n      <td>NaN</td>\n      <td>NaN</td>\n      <td>NaN</td>\n      <td>NaN</td>\n      <td>NaN</td>\n      <td>NaN</td>\n    </tr>\n    <tr>\n      <th>2</th>\n      <td>=\"诺德股份\"\\t62\\t62</td>\n      <td>\"人民币\"\\t-436.369\\t27377.26\\t--\\t\\t322.40\\t5.20\\...</td>\n      <td>\"600110\"</td>\n      <td>\"B882751428\"</td>\n      <td>\"-27054.86\"</td>\n      <td>NaN</td>\n      <td>NaN</td>\n      <td>NaN</td>\n      <td>NaN</td>\n      <td>NaN</td>\n      <td>NaN</td>\n      <td>NaN</td>\n      <td>NaN</td>\n      <td>NaN</td>\n      <td>NaN</td>\n      <td>NaN</td>\n    </tr>\n    <tr>\n      <th>3</th>\n      <td>=\"商赢环球\"\\t0\\t0</td>\n      <td>\"人民币\"\\t0.000\\t121087.88\\t--\\t\\t0.00\\t13.320\\t0...</td>\n      <td>\"600146\"</td>\n      <td>\"B882751428\"</td>\n      <td>\"-121087.88\"</td>\n      <td>NaN</td>\n      <td>NaN</td>\n      <td>NaN</td>\n      <td>NaN</td>\n      <td>NaN</td>\n      <td>NaN</td>\n      <td>NaN</td>\n      <td>NaN</td>\n      <td>NaN</td>\n      <td>NaN</td>\n      <td>NaN</td>\n    </tr>\n    <tr>\n      <th>4</th>\n      <td>=\"长春经开\"\\t11100\\t11100</td>\n      <td>\"人民币\"\\t7.541\\t1428.50\\t1.71\\t\\t85137.00\\t7.67\\...</td>\n      <td>\"600215\"</td>\n      <td>\"B882751428\"</td>\n      <td>\"83708.50\"</td>\n      <td>NaN</td>\n      <td>NaN</td>\n      <td>NaN</td>\n      <td>NaN</td>\n      <td>NaN</td>\n      <td>NaN</td>\n      <td>NaN</td>\n      <td>NaN</td>\n      <td>NaN</td>\n      <td>NaN</td>\n      <td>NaN</td>\n    </tr>\n    <tr>\n      <th>...</th>\n      <td>...</td>\n      <td>...</td>\n      <td>...</td>\n      <td>...</td>\n      <td>...</td>\n      <td>...</td>\n      <td>...</td>\n      <td>...</td>\n      <td>...</td>\n      <td>...</td>\n      <td>...</td>\n      <td>...</td>\n      <td>...</td>\n      <td>...</td>\n      <td>...</td>\n      <td>...</td>\n    </tr>\n    <tr>\n      <th>125</th>\n      <td>=\"万兴科技\"\\t300\\t300</td>\n      <td>\"人民币\"\\t79.913\\t500.21\\t2.09\\t\\t24474.00\\t81.58...</td>\n      <td>\"300624\"</td>\n      <td>\"0899198036\"</td>\n      <td>\"23973.79\"</td>\n      <td>NaN</td>\n      <td>NaN</td>\n      <td>NaN</td>\n      <td>NaN</td>\n      <td>NaN</td>\n      <td>NaN</td>\n      <td>NaN</td>\n      <td>NaN</td>\n      <td>NaN</td>\n      <td>NaN</td>\n      <td>NaN</td>\n    </tr>\n    <tr>\n      <th>126</th>\n      <td>=\"金陵体育\"\\t0\\t0</td>\n      <td>\"人民币\"\\t0.000\\t-3870.32\\t--\\t\\t0.00\\t25.920\\t0\\...</td>\n      <td>\"300651\"</td>\n      <td>\"0899198036\"</td>\n      <td>\"3870.32\"</td>\n      <td>NaN</td>\n      <td>NaN</td>\n      <td>NaN</td>\n      <td>NaN</td>\n      <td>NaN</td>\n      <td>NaN</td>\n      <td>NaN</td>\n      <td>NaN</td>\n      <td>NaN</td>\n      <td>NaN</td>\n      <td>NaN</td>\n    </tr>\n    <tr>\n      <th>127</th>\n      <td>=\"沪宁股份\"\\t2100\\t2100</td>\n      <td>\"人民币\"\\t39.390\\t3465.45\\t4.19\\t\\t86184.00\\t41.0...</td>\n      <td>\"300669\"</td>\n      <td>\"0899198036\"</td>\n      <td>\"82718.55\"</td>\n      <td>NaN</td>\n      <td>NaN</td>\n      <td>NaN</td>\n      <td>NaN</td>\n      <td>NaN</td>\n      <td>NaN</td>\n      <td>NaN</td>\n      <td>NaN</td>\n      <td>NaN</td>\n      <td>NaN</td>\n      <td>NaN</td>\n    </tr>\n    <tr>\n      <th>128</th>\n      <td>=\"艾德生物\"\\t2000\\t2000</td>\n      <td>\"人民币\"\\t77.084\\t5231.17\\t3.39\\t\\t159400.00\\t79....</td>\n      <td>\"300685\"</td>\n      <td>\"0899198036\"</td>\n      <td>\"154168.83\"</td>\n      <td>NaN</td>\n      <td>NaN</td>\n      <td>NaN</td>\n      <td>NaN</td>\n      <td>NaN</td>\n      <td>NaN</td>\n      <td>NaN</td>\n      <td>NaN</td>\n      <td>NaN</td>\n      <td>NaN</td>\n      <td>NaN</td>\n    </tr>\n    <tr>\n      <th>129</th>\n      <td>=\"德方纳米\"\\t2900\\t2900</td>\n      <td>\"人民币\"\\t125.282\\t19598.36\\t5.40\\t\\t382916.00\\t1...</td>\n      <td>\"300769\"</td>\n      <td>\"0899198036\"</td>\n      <td>\"363317.64\"</td>\n      <td>NaN</td>\n      <td>NaN</td>\n      <td>NaN</td>\n      <td>NaN</td>\n      <td>NaN</td>\n      <td>NaN</td>\n      <td>NaN</td>\n      <td>NaN</td>\n      <td>NaN</td>\n      <td>NaN</td>\n      <td>NaN</td>\n    </tr>\n  </tbody>\n</table>\n<p>130 rows × 16 columns</p>\n</div>"
     },
     "execution_count": 73,
     "metadata": {},
     "output_type": "execute_result"
    }
   ],
   "source": [
    "b= pd.read_csv(fpath, skiprows=3, encoding='gbk', sep='\\t=')\n",
    "b\n"
   ],
   "metadata": {
    "collapsed": false,
    "pycharm": {
     "name": "#%%\n"
    }
   }
  },
  {
   "cell_type": "code",
   "execution_count": 80,
   "outputs": [
    {
     "ename": "SyntaxError",
     "evalue": "invalid syntax (<ipython-input-80-7f261790d7bd>, line 2)",
     "output_type": "error",
     "traceback": [
      "\u001B[1;36m  File \u001B[1;32m\"<ipython-input-80-7f261790d7bd>\"\u001B[1;36m, line \u001B[1;32m2\u001B[0m\n\u001B[1;33m    with o\u001B[0m\n\u001B[1;37m          ^\u001B[0m\n\u001B[1;31mSyntaxError\u001B[0m\u001B[1;31m:\u001B[0m invalid syntax\n"
     ]
    }
   ],
   "source": [
    "def read_lines(fpath, skiprows=0, nrows=0):\n",
    "    with open(fpath, 'rb') as f:\n",
    "        list_list_datainline = []\n",
    "        list_lines = f.readlines()\n",
    "        if nrows:\n",
    "            for line in list_lines[skiprows:skiprows+nrows]:\n",
    "                line = line.decode('gbk').replace('=', '').replace('\"','')\n",
    "                list_datainline = line.split()\n",
    "                list_list_datainline.apend(list_datainline)\n",
    "                return list_list_datainline\n",
    "        else:\n",
    "            for line in list_lines[skiprows:]:\n",
    "                line = line.decode('gbk').replace('=', '').replace('\"','')\n",
    "                list_datainline = line.split()\n",
    "                list_list_datainline.apend(list_datainline)\n",
    "                return list_list_datainline\n",
    "\n",
    "print(read_lines(fpath, skiprows=0))"
   ],
   "metadata": {
    "collapsed": false,
    "pycharm": {
     "name": "#%%\n"
    }
   }
  },
  {
   "cell_type": "code",
   "execution_count": 81,
   "outputs": [
    {
     "name": "stdout",
     "output_type": "stream",
     "text": [
      "True\n"
     ]
    }
   ],
   "source": [
    "print(0 == False)\n",
    "\n",
    "\n",
    "\n",
    "\n",
    "\n",
    "\n"
   ],
   "metadata": {
    "collapsed": false,
    "pycharm": {
     "name": "#%%\n"
    }
   }
  },
  {
   "cell_type": "code",
   "execution_count": null,
   "outputs": [],
   "source": [
    "\n"
   ],
   "metadata": {
    "collapsed": false,
    "pycharm": {
     "name": "#%%\n"
    }
   }
  }
 ],
 "metadata": {
  "kernelspec": {
   "name": "pycharm-bacfb737",
   "language": "python",
   "display_name": "PyCharm (collect_trading_data)"
  },
  "language_info": {
   "codemirror_mode": {
    "name": "ipython",
    "version": 2
   },
   "file_extension": ".py",
   "mimetype": "text/x-python",
   "name": "python",
   "nbconvert_exporter": "python",
   "pygments_lexer": "ipython2",
   "version": "2.7.6"
  }
 },
 "nbformat": 4,
 "nbformat_minor": 0
}